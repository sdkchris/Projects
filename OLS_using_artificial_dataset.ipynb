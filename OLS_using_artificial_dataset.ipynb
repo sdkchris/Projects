{
  "cells": [
    {
      "cell_type": "markdown",
      "metadata": {
        "id": "view-in-github",
        "colab_type": "text"
      },
      "source": [
        "<a href=\"https://colab.research.google.com/github/sdkchris/Projects/blob/main/OLS_using_artificial_dataset.ipynb\" target=\"_parent\"><img src=\"https://colab.research.google.com/assets/colab-badge.svg\" alt=\"Open In Colab\"/></a>"
      ]
    },
    {
      "cell_type": "markdown",
      "metadata": {
        "id": "0ieSOBGo4pHD"
      },
      "source": [
        "# OLS using artificial dataset \n",
        "\n",
        "Ordinary least squares (OLS) is a type of linear least squares method for estimating the unknown parameters in a linear regression model. OLS chooses the parameters of a linear function of a set of explanatory variables by the principle of least squares: minimizing the sum of the squares of the differences between the observed dependent variable (values of the variable being observed) in the given dataset and those predicted by the linear function of the independent variable.\n",
        "\n",
        "\n",
        "Geometrically, this is seen as the sum of the squared distances, parallel to the axis of the dependent variable, between each data point in the set and the corresponding point on the regression surface—the smaller the differences, the better the model fits the data. The resulting estimator can be expressed by a simple formula, especially in the case of a simple linear regression, in which there is a single regressor on the right side of the regression equation.[wikipedia.com]"
      ]
    },
    {
      "cell_type": "code",
      "execution_count": null,
      "metadata": {
        "collapsed": true,
        "id": "GhG7NdoU4pHN"
      },
      "outputs": [],
      "source": [
        "import numpy as np\n",
        "import random\n",
        "import matplotlib.pyplot as plt\n",
        "from numpy.random import seed\n",
        "from numpy.random import randint\n",
        "from numpy.random import normal"
      ]
    },
    {
      "cell_type": "code",
      "execution_count": null,
      "metadata": {
        "collapsed": true,
        "id": "2Ke-6W0g4pHO"
      },
      "outputs": [],
      "source": [
        "#Generate some simple data. i.e. a matrix A with dimensions 100 × 2. Initialize it with normal distribution μ = 2 and σ = [1]\n",
        "seed(1)\n",
        "mu = 2\n",
        "sigma = 1\n",
        "dataset = np.random.normal(mu,sigma,size=(100,2))"
      ]
    },
    {
      "cell_type": "code",
      "execution_count": null,
      "metadata": {
        "scrolled": true,
        "id": "x2H14KUO4pHP",
        "outputId": "50a5ca6b-a780-4f59-cd2c-9d225d60e2af"
      },
      "outputs": [
        {
          "data": {
            "image/png": "[encoded data removed]",
            "text/plain": [
              "<matplotlib.figure.Figure at 0x1a1d1a0160>"
            ]
          },
          "metadata": {
            "needs_background": "light"
          },
          "output_type": "display_data"
        }
      ],
      "source": [
        "#view of the dataset\n",
        "plt.hist(dataset, rwidth = 0.95)\n",
        "plt.xlabel(\"X values\")\n",
        "plt.ylabel('Y values')\n",
        "plt.title(\"Normally distributed data, u=2,sigma=1\")\n",
        "plt.show()"
      ]
    },
    {
      "cell_type": "code",
      "execution_count": null,
      "metadata": {
        "id": "VvlMoHyl4pHQ",
        "outputId": "8603055a-16ba-4bd5-db1c-9836642cc825"
      },
      "outputs": [
        {
          "name": "stdout",
          "output_type": "stream",
          "text": [
            "[[3.62434536]\n",
            " [1.47182825]\n",
            " [2.86540763]\n",
            " [3.74481176]\n",
            " [2.3190391 ]\n",
            " [3.46210794]\n",
            " [1.6775828 ]\n",
            " [3.13376944]\n",
            " [1.82757179]\n",
            " [2.04221375]\n",
            " [0.89938082]\n",
            " [2.90159072]\n",
            " [2.90085595]\n",
            " [1.87710977]\n",
            " [1.73211192]\n",
            " [1.30833925]\n",
            " [1.3128273 ]\n",
            " [1.32875387]\n",
            " [0.88268965]\n",
            " [3.65980218]\n",
            " [1.80816445]\n",
            " [1.25284171]\n",
            " [2.05080775]\n",
            " [2.19091548]\n",
            " [2.12015895]\n",
            " [2.30017032]\n",
            " [0.8574818 ]\n",
            " [1.79110577]\n",
            " [2.83898341]\n",
            " [2.28558733]\n",
            " [1.24560206]\n",
            " [2.51292982]\n",
            " [2.48851815]\n",
            " [3.13162939]\n",
            " [4.18557541]\n",
            " [0.55588619]\n",
            " [2.16003707]\n",
            " [2.31563495]\n",
            " [1.69379599]\n",
            " [2.23009474]\n",
            " [1.77767186]\n",
            " [2.18656139]\n",
            " [2.19829972]\n",
            " [1.32933771]\n",
            " [2.12182127]\n",
            " [3.19891788]\n",
            " [1.62471505]\n",
            " [2.42349435]\n",
            " [1.65614632]\n",
            " [1.37999916]\n",
            " [1.55287144]\n",
            " [2.40349164]\n",
            " [0.90508815]\n",
            " [2.74055645]\n",
            " [1.73378149]\n",
            " [0.62688268]\n",
            " [2.84616065]\n",
            " [2.35054598]\n",
            " [1.96130449]\n",
            " [3.12141771]\n",
            " [1.97538304]\n",
            " [3.27375593]\n",
            " [0.14201814]\n",
            " [3.62765075]\n",
            " [0.80073197]\n",
            " [1.8190797 ]\n",
            " [0.76994186]\n",
            " [2.79280687]\n",
            " [2.52057634]\n",
            " [2.80186103]\n",
            " [1.81343023]\n",
            " [2.86888616]\n",
            " [2.52946532]\n",
            " [2.07782113]\n",
            " [2.23249456]\n",
            " [1.68988323]\n",
            " [3.0388246 ]\n",
            " [2.44136444]\n",
            " [1.86355526]\n",
            " [2.01740941]\n",
            " [1.48290554]\n",
            " [2.24879916]\n",
            " [2.49521132]\n",
            " [2.98633519]\n",
            " [4.19069973]\n",
            " [1.35308331]\n",
            " [4.52832571]\n",
            " [2.04366899]\n",
            " [3.33145711]\n",
            " [2.68006984]\n",
            " [0.72744124]\n",
            " [2.50318481]\n",
            " [1.88955297]\n",
            " [2.5627611 ]\n",
            " [2.28066508]\n",
            " [3.16033857]\n",
            " [3.90465871]\n",
            " [2.6590498 ]\n",
            " [2.60231928]\n",
            " [2.81095167]]\n"
          ]
        }
      ],
      "source": [
        "#identifying independent and dependent vars\n",
        "x = np.array([row[0] for row in dataset]).reshape(-1, 1)\n",
        "y = np.array([row[1] for row in dataset]).reshape(-1,1)\n",
        "\n",
        "#Let's look at x\n",
        "print(x)"
      ]
    },
    {
      "cell_type": "code",
      "execution_count": null,
      "metadata": {
        "id": "HDj4nECG4pHQ",
        "outputId": "6db70ee4-c223-4a32-d062-3d8dd7cbf6e0"
      },
      "outputs": [
        {
          "name": "stdout",
          "output_type": "stream",
          "text": [
            "[[ 1.38824359]\n",
            " [ 0.92703138]\n",
            " [-0.3015387 ]\n",
            " [ 1.2387931 ]\n",
            " [ 1.75062962]\n",
            " [-0.06014071]\n",
            " [ 1.61594565]\n",
            " [ 0.90010873]\n",
            " [ 1.12214158]\n",
            " [ 2.58281521]\n",
            " [ 3.14472371]\n",
            " [ 2.50249434]\n",
            " [ 1.31627214]\n",
            " [ 1.06423057]\n",
            " [ 2.53035547]\n",
            " [ 1.60324647]\n",
            " [ 1.15479436]\n",
            " [ 1.9873354 ]\n",
            " [ 2.2344157 ]\n",
            " [ 2.74204416]\n",
            " [ 1.11237104]\n",
            " [ 3.6924546 ]\n",
            " [ 1.36300435]\n",
            " [ 4.10025514]\n",
            " [ 2.61720311]\n",
            " [ 1.64775015]\n",
            " [ 1.65065728]\n",
            " [ 2.58662319]\n",
            " [ 2.93110208]\n",
            " [ 2.88514116]\n",
            " [ 3.25286816]\n",
            " [ 1.70190716]\n",
            " [ 1.92442829]\n",
            " [ 3.51981682]\n",
            " [ 0.60350366]\n",
            " [ 1.49553414]\n",
            " [ 2.87616892]\n",
            " [-0.02220122]\n",
            " [ 2.82797464]\n",
            " [ 2.76201118]\n",
            " [ 1.79924193]\n",
            " [ 2.41005165]\n",
            " [ 2.11900865]\n",
            " [ 2.37756379]\n",
            " [ 3.12948391]\n",
            " [ 2.18515642]\n",
            " [ 1.36126959]\n",
            " [ 2.07734007]\n",
            " [ 2.04359686]\n",
            " [ 2.69803203]\n",
            " [ 3.2245077 ]\n",
            " [ 2.59357852]\n",
            " [ 2.16938243]\n",
            " [ 1.0462994 ]\n",
            " [ 2.03261455]\n",
            " [ 2.31515939]\n",
            " [ 1.14048406]\n",
            " [ 0.68771659]\n",
            " [ 0.38422765]\n",
            " [ 2.40890054]\n",
            " [ 1.22483838]\n",
            " [ 3.96710175]\n",
            " [ 3.23616403]\n",
            " [ 2.3380117 ]\n",
            " [ 2.86334532]\n",
            " [ 1.39607937]\n",
            " [ 2.5505375 ]\n",
            " [ 1.37646927]\n",
            " [ 0.85565861]\n",
            " [ 2.0465673 ]\n",
            " [ 1.89825413]\n",
            " [ 2.75041164]\n",
            " [ 2.13770121]\n",
            " [ 2.61838026]\n",
            " [ 2.68255141]\n",
            " [-0.43483776]\n",
            " [ 4.18697965]\n",
            " [ 1.89984477]\n",
            " [ 1.88094581]\n",
            " [ 0.87798127]\n",
            " [ 1.00297317]\n",
            " [ 1.70335885]\n",
            " [ 1.82529684]\n",
            " [ 2.2135339 ]\n",
            " [ 0.10363908]\n",
            " [ 2.90148689]\n",
            " [ 1.75136522]\n",
            " [ 1.77368576]\n",
            " [ 1.71269214]\n",
            " [ 1.6801984 ]\n",
            " [ 2.31354772]\n",
            " [ 3.29322588]\n",
            " [ 1.38263794]\n",
            " [ 2.24073709]\n",
            " [ 1.9268873 ]\n",
            " [ 2.36949272]\n",
            " [ 3.1110567 ]\n",
            " [ 0.37256166]\n",
            " [ 2.4202822 ]\n",
            " [ 3.04444209]]\n"
          ]
        }
      ],
      "source": [
        "print(y)"
      ]
    },
    {
      "cell_type": "code",
      "execution_count": null,
      "metadata": {
        "id": "z2fYRFLV4pHR",
        "outputId": "4ea185a1-0b28-4fa0-97c2-8cfbd4cb2889"
      },
      "outputs": [
        {
          "data": {
            "text/plain": [
              "(100, 2)"
            ]
          },
          "execution_count": 87,
          "metadata": {},
          "output_type": "execute_result"
        }
      ],
      "source": [
        "dataset.shape"
      ]
    },
    {
      "cell_type": "code",
      "execution_count": null,
      "metadata": {
        "collapsed": true,
        "id": "Kidxhbzx4pHR"
      },
      "outputs": [],
      "source": [
        "#Implement LEARN-SIMPLE-LINREG algorithm and train it using matrix A \n",
        "#to learn values of β0 and β1 \n",
        "from sklearn.linear_model import LinearRegression\n"
      ]
    },
    {
      "cell_type": "code",
      "execution_count": null,
      "metadata": {
        "id": "13lCLKI84pHS",
        "outputId": "414fbfe5-20c0-4c26-9d5c-0cd57b8fe6bd"
      },
      "outputs": [
        {
          "data": {
            "text/plain": [
              "LinearRegression(copy_X=True, fit_intercept=True, n_jobs=None, normalize=False)"
            ]
          },
          "execution_count": 89,
          "metadata": {},
          "output_type": "execute_result"
        }
      ],
      "source": [
        "#model selection\n",
        "model = LinearRegression()\n",
        "\n",
        "#fitting model on x,y params\n",
        "model.fit(x,y)"
      ]
    },
    {
      "cell_type": "code",
      "execution_count": null,
      "metadata": {
        "id": "-OiY4oyC4pHT",
        "outputId": "c24407f5-0bf9-4482-9881-d32306c61527"
      },
      "outputs": [
        {
          "name": "stdout",
          "output_type": "stream",
          "text": [
            "coefficient of determination: 0.019952614474596286\n"
          ]
        }
      ],
      "source": [
        "#get model score\n",
        "model_score = model.score(x,y)\n",
        "print(\"coefficient of determination: {}\".format(model_score))"
      ]
    },
    {
      "cell_type": "code",
      "execution_count": null,
      "metadata": {
        "id": "pAtr3Bt94pHT",
        "outputId": "fba96b99-43fb-4dc9-c2b1-49f700246c97"
      },
      "outputs": [
        {
          "name": "stdout",
          "output_type": "stream",
          "text": [
            "The model intercept or B0 = [2.33201181]\n",
            "The model coefficient B1 = [[-0.15507097]]\n"
          ]
        }
      ],
      "source": [
        "# model intercept and slop\n",
        "intercept = model.intercept_\n",
        "print(\"The model intercept or B0 = {}\".format(intercept))\n",
        "\n",
        "slope = model.coef_\n",
        "print(\"The model coefficient B1 = {}\".format(slope))"
      ]
    },
    {
      "cell_type": "code",
      "execution_count": null,
      "metadata": {
        "scrolled": true,
        "id": "TUqLMd7x4pHU",
        "outputId": "53ed2f17-a5c7-425a-dd3c-f899cc4a90f5"
      },
      "outputs": [
        {
          "name": "stdout",
          "output_type": "stream",
          "text": [
            "Predicted y: \n",
            " [[1.76998105]\n",
            " [2.10377397]\n",
            " [1.88767026]\n",
            " [1.75130021]\n",
            " [1.97239616]\n",
            " [1.79513937]\n",
            " [2.07186741]\n",
            " [1.84605514]\n",
            " [2.04860848]\n",
            " [2.01532374]\n",
            " [2.19254395]\n",
            " [1.88205932]\n",
            " [1.88217326]\n",
            " [2.04092657]\n",
            " [2.06341153]\n",
            " [2.12912637]\n",
            " [2.1284304 ]\n",
            " [2.12596066]\n",
            " [2.19513227]\n",
            " [1.76448273]\n",
            " [2.05161799]\n",
            " [2.13773243]\n",
            " [2.01399106]\n",
            " [1.99226442]\n",
            " [2.0032367 ]\n",
            " [1.97532216]\n",
            " [2.19904127]\n",
            " [2.0542633 ]\n",
            " [1.89176789]\n",
            " [1.97758356]\n",
            " [2.13885509]\n",
            " [1.94232934]\n",
            " [1.94611488]\n",
            " [1.846387  ]\n",
            " [1.68295056]\n",
            " [2.24581   ]\n",
            " [1.99705276]\n",
            " [1.97292405]\n",
            " [2.06935322]\n",
            " [1.98618885]\n",
            " [2.05634651]\n",
            " [1.99293961]\n",
            " [1.99111933]\n",
            " [2.12587012]\n",
            " [2.00297892]\n",
            " [1.8359525 ]\n",
            " [2.08006567]\n",
            " [1.95619818]\n",
            " [2.07519159]\n",
            " [2.118014  ]\n",
            " [2.09120653]\n",
            " [1.95930002]\n",
            " [2.19165891]\n",
            " [1.90703106]\n",
            " [2.06315263]\n",
            " [2.2348005 ]\n",
            " [1.89065491]\n",
            " [1.96751036]\n",
            " [2.02787042]\n",
            " [1.84797053]\n",
            " [2.02568724]\n",
            " [1.82434729]\n",
            " [2.30998892]\n",
            " [1.76946848]\n",
            " [2.20784153]\n",
            " [2.04992535]\n",
            " [2.21261618]\n",
            " [1.89892853]\n",
            " [1.94114359]\n",
            " [1.8975245 ]\n",
            " [2.05080142]\n",
            " [1.88713084]\n",
            " [1.93976516]\n",
            " [2.00980207]\n",
            " [1.98581671]\n",
            " [2.06995997]\n",
            " [1.86077832]\n",
            " [1.95342705]\n",
            " [2.04302848]\n",
            " [2.01917017]\n",
            " [2.10205621]\n",
            " [1.98328834]\n",
            " [1.94507696]\n",
            " [1.86891791]\n",
            " [1.68215593]\n",
            " [2.12218787]\n",
            " [1.62979994]\n",
            " [2.01509807]\n",
            " [1.81539952]\n",
            " [1.91641077]\n",
            " [2.21920679]\n",
            " [1.94384051]\n",
            " [2.03899699]\n",
            " [1.93460195]\n",
            " [1.97834686]\n",
            " [1.84193503]\n",
            " [1.72651259]\n",
            " [1.91967037]\n",
            " [1.92846763]\n",
            " [1.8961148 ]]\n"
          ]
        }
      ],
      "source": [
        "#model prediction and calculating \n",
        "#the points for each training example in matrix A.\n",
        "\n",
        "y_pred = model.predict(x)\n",
        "print(\"Predicted y: \\n\",y_pred)\n"
      ]
    },
    {
      "cell_type": "code",
      "execution_count": null,
      "metadata": {
        "id": "zK4IFHHY4pHU",
        "outputId": "a6c7ead4-9b85-46ce-bc78-39006ec035c4"
      },
      "outputs": [
        {
          "data": {
            "image/png": "[encoded data removed]",
            "text/plain": [
              "<matplotlib.figure.Figure at 0x104fbfac8>"
            ]
          },
          "metadata": {
            "needs_background": "light"
          },
          "output_type": "display_data"
        }
      ],
      "source": [
        "#Plot the training data and predicted line\n",
        "\n",
        "plt.scatter(x,y)\n",
        "plt.xlabel(\"X values\")\n",
        "plt.ylabel(\"Y label\")\n",
        "plt.title('Training data')\n",
        "plt.show()\n"
      ]
    },
    {
      "cell_type": "code",
      "execution_count": null,
      "metadata": {
        "scrolled": false,
        "id": "uMuICjbI4pHV",
        "outputId": "d26318d2-d1b5-47a9-9bcd-9148100b1b80"
      },
      "outputs": [
        {
          "data": {
            "image/png": "[encoded data removed]",
            "text/plain": [
              "<matplotlib.figure.Figure at 0x1a1c86dc88>"
            ]
          },
          "metadata": {
            "needs_background": "light"
          },
          "output_type": "display_data"
        }
      ],
      "source": [
        "#plotting the predicted line\n",
        "plt.scatter(x,y)\n",
        "plt.plot(x,y_pred, color = 'red')\n",
        "plt.xlabel(\"X values\")\n",
        "plt.ylabel(\"Y label\")\n",
        "plt.title(\"Regression line\")\n",
        "plt.show()"
      ]
    },
    {
      "cell_type": "code",
      "execution_count": null,
      "metadata": {
        "collapsed": true,
        "id": "PZIO0_VQ4pHW"
      },
      "outputs": [],
      "source": [
        "#B1 = sum((x(i)-mean(x)*(y(i)-mean(y))))/sum((x(i)-mean(x))^2)\n",
        "#B1 can also be obtained by taking: B1 = covariance(x1,y)/variance(x1)\n",
        "#B0 = (mean(y)-(B1*mean(x)))\n",
        "x.mean()\n",
        "def coefficients(x,y):\n",
        "    B1 = sum((x - (x.mean()))*(y - (y.mean())))/sum((x - (x.mean()))**2)\n",
        "    B0 = (y.mean()) - B1*(x.mean())\n",
        "    return [B1,B0]\n"
      ]
    },
    {
      "cell_type": "code",
      "execution_count": null,
      "metadata": {
        "id": "H1pvlSM54pHW",
        "outputId": "90faf476-3753-4c0e-b7f5-5e8c2bea147c"
      },
      "outputs": [
        {
          "name": "stdout",
          "output_type": "stream",
          "text": [
            "coefficients: B1=[-0.15507097], B0 =[2.33201181]\n"
          ]
        }
      ],
      "source": [
        "# B1 is the slopre of the equation and B0 is the bias or the intercept \n",
        "\n",
        "B1,B0 = coefficients(x,y)\n",
        "print('coefficients: B1={0}, B0 ={1}'.format(B1,B0))"
      ]
    },
    {
      "cell_type": "code",
      "execution_count": null,
      "metadata": {
        "id": "QKgyQSJM4pHX",
        "outputId": "220a77b1-9f8d-4796-cf24-146338b79a7e"
      },
      "outputs": [
        {
          "data": {
            "image/png": "[encoded data removed]",
            "text/plain": [
              "<matplotlib.figure.Figure at 0x1a1d5889e8>"
            ]
          },
          "metadata": {
            "needs_background": "light"
          },
          "output_type": "display_data"
        }
      ],
      "source": [
        "#y^= B0 + B1*x\n",
        "\n",
        "plt.scatter(x,y)\n",
        "yhat = B1*x + B0\n",
        "fig = plt.plot(x,yhat, lw=2, c='red', label = 'regression line')\n",
        "plt.xlabel('X values')\n",
        "plt.ylabel('Y values')\n",
        "plt.title(\"Regression line\")\n",
        "plt.show()"
      ]
    },
    {
      "cell_type": "markdown",
      "metadata": {
        "id": "-YembYJc4pHX"
      },
      "source": [
        "In general, to get a smoother line we need to sort the randomly generated data using a pandas sort function"
      ]
    },
    {
      "cell_type": "code",
      "execution_count": null,
      "metadata": {
        "id": "JseSOxz04pHX",
        "outputId": "48b79ecd-eee4-4df3-8c50-c8c5ab319636"
      },
      "outputs": [
        {
          "data": {
            "image/png": "[encoded data removed]",
            "text/plain": [
              "<matplotlib.figure.Figure at 0x1a1e040240>"
            ]
          },
          "metadata": {
            "needs_background": "light"
          },
          "output_type": "display_data"
        }
      ],
      "source": [
        "# now with B0 = 0\n",
        "\n",
        "B0 = 0\n",
        "B1 = slope\n",
        "\n",
        "plt.scatter(x,y)\n",
        "yhat = B1*x + B0\n",
        "fig = plt.plot(x,yhat, lw=2, c='red', label = 'regression line')\n",
        "plt.xlabel('X values')\n",
        "plt.ylabel('Y values')\n",
        "plt.title(\"Regression line\")\n",
        "plt.show()"
      ]
    },
    {
      "cell_type": "code",
      "execution_count": null,
      "metadata": {
        "scrolled": true,
        "id": "6pCJ1VgW4pHY",
        "outputId": "d76d0b28-c2d7-4f29-82f9-25d25d7efbb4"
      },
      "outputs": [
        {
          "data": {
            "image/png": "[encoded data removed]",
            "text/plain": [
              "<matplotlib.figure.Figure at 0x1a1d2b5d30>"
            ]
          },
          "metadata": {
            "needs_background": "light"
          },
          "output_type": "display_data"
        }
      ],
      "source": [
        "#β1 to zero \n",
        "B1 = 0\n",
        "B0 = intercept\n",
        "\n",
        "plt.scatter(x,y)\n",
        "yhat = B1*x + B0\n",
        "fig = plt.plot(x,yhat, lw=4, c='red', label = 'regression line')\n",
        "plt.xlabel('X values')\n",
        "plt.ylabel('Y values')\n",
        "plt.title(\"Regression line\")\n",
        "plt.show()\n"
      ]
    },
    {
      "cell_type": "code",
      "execution_count": null,
      "metadata": {
        "id": "ttKbwFPi4pHZ",
        "outputId": "3017d000-21f5-4ef9-8ec6-5d9a0b0a92ce"
      },
      "outputs": [
        {
          "data": {
            "text/plain": [
              "(array([0.41836792]), array([0.44699793]))"
            ]
          },
          "execution_count": 110,
          "metadata": {},
          "output_type": "execute_result"
        }
      ],
      "source": [
        "#Use numpy.linalg lstsq for values of β0 and β1. \n",
        "m, c = np.linalg.lstsq(dataset,y_pred, rcond=None)[0]\n",
        "m, c"
      ]
    },
    {
      "cell_type": "code",
      "execution_count": null,
      "metadata": {
        "id": "S_9Yn_xN4pHZ",
        "outputId": "6283ed84-f332-421a-cc0b-4ee7c6e7a9d6"
      },
      "outputs": [
        {
          "data": {
            "image/png": "[encoded data removed]",
            "text/plain": [
              "<matplotlib.figure.Figure at 0x1a1dfd50f0>"
            ]
          },
          "metadata": {
            "needs_background": "light"
          },
          "output_type": "display_data"
        }
      ],
      "source": [
        "#new plot\n",
        "plt.plot(x, y, 'o', label='Original data', markersize=6)\n",
        "plt.plot(x, m*x + c, 'r', label='Fitted line')\n",
        "plt.xlabel('X values')\n",
        "plt.ylabel('Y values')\n",
        "plt.title(\"Regression line\")\n",
        "plt.legend(loc='upper right')\n",
        "plt.show()"
      ]
    },
    {
      "cell_type": "code",
      "execution_count": null,
      "metadata": {
        "id": "SmYYk8EA4pHZ",
        "outputId": "7e5eb6dd-9a46-48d9-f8c2-4234d1e01481"
      },
      "outputs": [
        {
          "data": {
            "image/png": "[encoded data removed]",
            "text/plain": [
              "<matplotlib.figure.Figure at 0x1a1e167fd0>"
            ]
          },
          "metadata": {
            "needs_background": "light"
          },
          "output_type": "display_data"
        }
      ],
      "source": [
        "#plot with B0 = 0\n",
        "c = 0\n",
        "plt.plot(x, y, 'o', label='Original data', markersize=6)\n",
        "plt.plot(x, m*x + c, 'r', label='Fitted line')\n",
        "plt.xlabel('X values')\n",
        "plt.ylabel('Y values')\n",
        "plt.title(\"Regression line\")\n",
        "plt.legend(loc='upper right')\n",
        "plt.show()"
      ]
    },
    {
      "cell_type": "code",
      "execution_count": null,
      "metadata": {
        "id": "NwnqiL3W4pHa",
        "outputId": "4e027ef6-4519-44b4-eebd-4cf7ac2fda51"
      },
      "outputs": [
        {
          "data": {
            "image/png": "[encoded data removed]",
            "text/plain": [
              "<matplotlib.figure.Figure at 0x1a1d624eb8>"
            ]
          },
          "metadata": {
            "needs_background": "light"
          },
          "output_type": "display_data"
        }
      ],
      "source": [
        "#plot with B1 = 0\n",
        "c=0.44699793\n",
        "m = 0\n",
        "plt.plot(x, y, 'o', label='Original data', markersize=6)\n",
        "plt.plot(x, m*x + c, 'r', label='Fitted line')\n",
        "plt.xlabel('X values')\n",
        "plt.ylabel('Y values')\n",
        "plt.title(\"Regression line\")\n",
        "plt.legend(loc='upper right')\n",
        "plt.show()"
      ]
    },
    {
      "cell_type": "markdown",
      "metadata": {
        "collapsed": true,
        "id": "VEjoyeE44pHa"
      },
      "source": [
        "with higher standard deviations we tend to get a higher error rate. so basically, the more the value of standard deviation, the more the line performs worse on predicting the data."
      ]
    },
    {
      "cell_type": "code",
      "execution_count": null,
      "metadata": {
        "collapsed": true,
        "id": "oOEuiIDy4pHb"
      },
      "outputs": [],
      "source": [
        ""
      ]
    }
  ],
  "metadata": {
    "kernelspec": {
      "display_name": "Python 3",
      "language": "python",
      "name": "python3"
    },
    "language_info": {
      "codemirror_mode": {
        "name": "ipython",
        "version": 3
      },
      "file_extension": ".py",
      "mimetype": "text/x-python",
      "name": "python",
      "nbconvert_exporter": "python",
      "pygments_lexer": "ipython3",
      "version": "3.6.9"
    },
    "colab": {
      "name": "OLS using artificial dataset.ipynb",
      "provenance": [],
      "collapsed_sections": [],
      "include_colab_link": true
    }
  },
  "nbformat": 4,
  "nbformat_minor": 0
}
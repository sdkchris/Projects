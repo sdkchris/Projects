{
  "cells": [
    {
      "cell_type": "markdown",
      "metadata": {
        "id": "view-in-github",
        "colab_type": "text"
      },
      "source": [
        "<a href=\"https://colab.research.google.com/github/sdkchris/Projects/blob/main/Stochastic_gradient_descent_SGD.ipynb\" target=\"_parent\"><img src=\"https://colab.research.google.com/assets/colab-badge.svg\" alt=\"Open In Colab\"/></a>"
      ]
    },
    {
      "cell_type": "markdown",
      "metadata": {
        "id": "Z8aaiiaTsr6Y"
      },
      "source": [
        "## Stochastic gradient descent (SGD)\n",
        "\n",
        "Stochastic gradient descent is an iterative method for optimizing an objective function with suitable smoothness properties (e.g. differentiable or subdifferentiable). \n",
        "\n",
        "It can be regarded as a stochastic approximation of gradient descent optimization, since it replaces the actual gradient (calculated from the entire data set) by an estimate thereof (calculated from a randomly selected subset of the data). [wikipedia]"
      ]
    },
    {
      "cell_type": "code",
      "execution_count": null,
      "metadata": {
        "collapsed": true,
        "id": "V7xtrZzdsr6e"
      },
      "outputs": [],
      "source": [
        "#import dependencies \n",
        "import numpy as np\n",
        "import pandas as pd\n",
        "import matplotlib.pyplot as plt\n",
        "import seaborn as sns;sns.set(style='ticks', color_codes=True)"
      ]
    },
    {
      "cell_type": "markdown",
      "metadata": {
        "id": "bnguaK5Jsr6f"
      },
      "source": [
        "### The Data"
      ]
    },
    {
      "cell_type": "markdown",
      "metadata": {
        "id": "_fdcv6zXsr6g"
      },
      "source": [
        "1. Title: Tic-Tac-Toe Endgame database\n",
        "\n",
        "2. Source Information\n",
        "   -- Creator: David W. Aha (aha@cs.jhu.edu)\n",
        "   -- Donor: David W. Aha (aha@cs.jhu.edu)\n",
        "   -- Date: 19 August 1991\n",
        " \n",
        "3. Known Past Usage: \n",
        "   1. Matheus,~C.~J., \\& Rendell,~L.~A. (1989).  Constructive\n",
        "      induction on decision trees.  In {\\it Proceedings of the\n",
        "      Eleventh International Joint Conference on Artificial Intelligence} \n",
        "      (pp. 645--650).  Detroit, MI: Morgan Kaufmann.\n",
        "      -- CITRE was applied to 100-instance training and 200-instance test\n",
        "         sets.  In a study using various amounts of domain-specific\n",
        "         knowledge, its highest average accuracy was 76.7% (using the\n",
        "         final decision tree created for testing).\n",
        "\n",
        "   2. Matheus,~C.~J. (1990). Adding domain knowledge to SBL through\n",
        "      feature construction.  In {\\it Proceedings of the Eighth National\n",
        "      Conference on Artificial Intelligence} (pp. 803--808). \n",
        "      Boston, MA: AAAI Press.\n",
        "      -- Similar experiments with CITRE, includes learning curves up\n",
        "         to 500-instance training sets but used _all_ instances in the\n",
        "         database for testing.  Accuracies reached above 90%, but specific\n",
        "         values are not given (see Chris's dissertation for more details).\n",
        "\n",
        "   3. Aha,~D.~W. (1991). Incremental constructive induction: An instance-based\n",
        "      approach.  In {\\it Proceedings of the Eighth International Workshop\n",
        "      on Machine Learning} (pp. 117--121).  Evanston, ILL: Morgan Kaufmann.\n",
        "      -- Used 70% for training, 30% of the instances for testing, evaluated\n",
        "         over 10 trials.  Results reported for six algorithms:\n",
        "         -- NewID:   84.0%\n",
        "         -- CN2:     98.1%  \n",
        "         -- MBRtalk: 88.4%\n",
        "         -- IB1:     98.1% \n",
        "         -- IB3:     82.0%\n",
        "         -- IB3-CI:  99.1%\n",
        "      -- Results also reported when adding an additional 10 irrelevant \n",
        "         ternary-valued attributes; similar _relative_ results except that\n",
        "         IB1's performance degraded more quickly than the others.\n",
        "\n",
        "4. Relevant Information:\n",
        "\n",
        "   This database encodes the complete set of possible board configurations\n",
        "   at the end of tic-tac-toe games, where \"x\" is assumed to have played\n",
        "   first.  The target concept is \"win for x\" (i.e., true when \"x\" has one\n",
        "   of 8 possible ways to create a \"three-in-a-row\").  \n",
        "\n",
        "   Interestingly, this raw database gives a stripped-down decision tree\n",
        "   algorithm (e.g., ID3) fits.  However, the rule-based CN2 algorithm, the\n",
        "   simple IB1 instance-based learning algorithm, and the CITRE \n",
        "   feature-constructing decision tree algorithm perform well on it.\n",
        "\n",
        "5. Number of Instances: 958 (legal tic-tac-toe endgame boards)\n",
        "\n",
        "6. Number of Attributes: 9, each corresponding to one tic-tac-toe square\n",
        "\n",
        "7. Attribute Information: (x=player x has taken, o=player o has taken, b=blank)\n",
        "\n",
        "    1. top-left-square: {x,o,b}\n",
        "    2. top-middle-square: {x,o,b}\n",
        "    3. top-right-square: {x,o,b}\n",
        "    4. middle-left-square: {x,o,b}\n",
        "    5. middle-middle-square: {x,o,b}\n",
        "    6. middle-right-square: {x,o,b}\n",
        "    7. bottom-left-square: {x,o,b}\n",
        "    8. bottom-middle-square: {x,o,b}\n",
        "    9. bottom-right-square: {x,o,b}\n",
        "   10. Class: {positive,negative}\n",
        "\n",
        "8. Missing Attribute Values: None\n",
        "\n",
        "9. Class Distribution: About 65.3% are positive (i.e., wins for \"x\")\n"
      ]
    },
    {
      "cell_type": "markdown",
      "metadata": {
        "id": "cu7QKFB3sr6i"
      },
      "source": [
        "### Loading in the data"
      ]
    },
    {
      "cell_type": "code",
      "execution_count": null,
      "metadata": {
        "id": "BRNe0ylKsr6j",
        "outputId": "162436fc-1d5b-443f-af2f-5eaf3d9e598c"
      },
      "outputs": [
        {
          "data": {
            "text/html": [
              "<div>\n",
              "<style>\n",
              "    .dataframe thead tr:only-child th {\n",
              "        text-align: right;\n",
              "    }\n",
              "\n",
              "    .dataframe thead th {\n",
              "        text-align: left;\n",
              "    }\n",
              "\n",
              "    .dataframe tbody tr th {\n",
              "        vertical-align: top;\n",
              "    }\n",
              "</style>\n",
              "<table border=\"1\" class=\"dataframe\">\n",
              "  <thead>\n",
              "    <tr style=\"text-align: right;\">\n",
              "      <th></th>\n",
              "      <th>A</th>\n",
              "      <th>B</th>\n",
              "      <th>C</th>\n",
              "      <th>D</th>\n",
              "      <th>E</th>\n",
              "      <th>F</th>\n",
              "      <th>G</th>\n",
              "      <th>H</th>\n",
              "      <th>I</th>\n",
              "      <th>Class</th>\n",
              "    </tr>\n",
              "  </thead>\n",
              "  <tbody>\n",
              "    <tr>\n",
              "      <th>0</th>\n",
              "      <td>x</td>\n",
              "      <td>x</td>\n",
              "      <td>x</td>\n",
              "      <td>x</td>\n",
              "      <td>o</td>\n",
              "      <td>o</td>\n",
              "      <td>x</td>\n",
              "      <td>o</td>\n",
              "      <td>o</td>\n",
              "      <td>positive</td>\n",
              "    </tr>\n",
              "    <tr>\n",
              "      <th>1</th>\n",
              "      <td>x</td>\n",
              "      <td>x</td>\n",
              "      <td>x</td>\n",
              "      <td>x</td>\n",
              "      <td>o</td>\n",
              "      <td>o</td>\n",
              "      <td>o</td>\n",
              "      <td>x</td>\n",
              "      <td>o</td>\n",
              "      <td>positive</td>\n",
              "    </tr>\n",
              "    <tr>\n",
              "      <th>2</th>\n",
              "      <td>x</td>\n",
              "      <td>x</td>\n",
              "      <td>x</td>\n",
              "      <td>x</td>\n",
              "      <td>o</td>\n",
              "      <td>o</td>\n",
              "      <td>o</td>\n",
              "      <td>o</td>\n",
              "      <td>x</td>\n",
              "      <td>positive</td>\n",
              "    </tr>\n",
              "    <tr>\n",
              "      <th>3</th>\n",
              "      <td>x</td>\n",
              "      <td>x</td>\n",
              "      <td>x</td>\n",
              "      <td>x</td>\n",
              "      <td>o</td>\n",
              "      <td>o</td>\n",
              "      <td>o</td>\n",
              "      <td>b</td>\n",
              "      <td>b</td>\n",
              "      <td>positive</td>\n",
              "    </tr>\n",
              "    <tr>\n",
              "      <th>4</th>\n",
              "      <td>x</td>\n",
              "      <td>x</td>\n",
              "      <td>x</td>\n",
              "      <td>x</td>\n",
              "      <td>o</td>\n",
              "      <td>o</td>\n",
              "      <td>b</td>\n",
              "      <td>o</td>\n",
              "      <td>b</td>\n",
              "      <td>positive</td>\n",
              "    </tr>\n",
              "  </tbody>\n",
              "</table>\n",
              "</div>"
            ],
            "text/plain": [
              "   A  B  C  D  E  F  G  H  I     Class\n",
              "0  x  x  x  x  o  o  x  o  o  positive\n",
              "1  x  x  x  x  o  o  o  x  o  positive\n",
              "2  x  x  x  x  o  o  o  o  x  positive\n",
              "3  x  x  x  x  o  o  o  b  b  positive\n",
              "4  x  x  x  x  o  o  b  o  b  positive"
            ]
          },
          "execution_count": 2,
          "metadata": {},
          "output_type": "execute_result"
        }
      ],
      "source": [
        "#load data in pandas tabular form\n",
        "data = pd.read_csv('/Users/mac/Downloads/tic-tac-toe.data', names=['A', 'B', 'C', 'D', 'E', 'F', 'G', 'H', 'I', 'Class'])\n",
        "data.head()"
      ]
    },
    {
      "cell_type": "code",
      "execution_count": null,
      "metadata": {
        "id": "n7OJxjp5sr6k",
        "outputId": "0a5cc5c2-22ae-490f-e01d-cc8bfa77bfe1"
      },
      "outputs": [
        {
          "name": "stdout",
          "output_type": "stream",
          "text": [
            "<class 'pandas.core.frame.DataFrame'>\n",
            "RangeIndex: 958 entries, 0 to 957\n",
            "Data columns (total 10 columns):\n",
            "A        958 non-null object\n",
            "B        958 non-null object\n",
            "C        958 non-null object\n",
            "D        958 non-null object\n",
            "E        958 non-null object\n",
            "F        958 non-null object\n",
            "G        958 non-null object\n",
            "H        958 non-null object\n",
            "I        958 non-null object\n",
            "Class    958 non-null object\n",
            "dtypes: object(10)\n",
            "memory usage: 74.9+ KB\n"
          ]
        }
      ],
      "source": [
        "#summary of the data \n",
        "data.info()"
      ]
    },
    {
      "cell_type": "code",
      "execution_count": null,
      "metadata": {
        "id": "wrw9Goo0sr6m",
        "outputId": "9ef9ad95-5c0b-462c-e311-410678b4c2bf"
      },
      "outputs": [
        {
          "data": {
            "text/plain": [
              "positive    626\n",
              "negative    332\n",
              "Name: Class, dtype: int64"
            ]
          },
          "execution_count": 4,
          "metadata": {},
          "output_type": "execute_result"
        }
      ],
      "source": [
        "#number of Positive and Negative classes\n",
        "data['Class'].value_counts()"
      ]
    },
    {
      "cell_type": "code",
      "execution_count": null,
      "metadata": {
        "id": "RD9BR5Vnsr6m",
        "outputId": "1dcde12b-d043-41ed-db0f-51790fc1e5ab"
      },
      "outputs": [
        {
          "data": {
            "image/png": "[encoded data removed]",
            "text/plain": [
              "<matplotlib.figure.Figure at 0x10fcbef28>"
            ]
          },
          "metadata": {
            "needs_background": "light"
          },
          "output_type": "display_data"
        }
      ],
      "source": [
        "count_classes = pd.value_counts(data['Class'],sort = True)\n",
        "count_classes.plot(kind = 'bar', rot =0,fontsize=10)\n",
        "plt.title(\"Class distribution\",fontsize=15)\n",
        "plt.xlabel(\"Classes\")\n",
        "plt.ylabel('Frequency')\n",
        "plt.show()"
      ]
    },
    {
      "cell_type": "markdown",
      "metadata": {
        "id": "aRyWENQpsr6n"
      },
      "source": [
        "The data is unbalanced, i.e the class \"positive\" has more instances than the class \"negative\".\n",
        "When the distribution of classes present in a dataset is not uniform s.t. the number of instances of a class(Positve)  significantly out numbers the instances of another class(B) it leads to class imbalance.\n",
        "This type of situation can be handled using techniques based on data stratification, over-sampling of minority class, one-class classification etc."
      ]
    },
    {
      "cell_type": "markdown",
      "metadata": {
        "id": "hPP4iAXUsr6o"
      },
      "source": [
        "Let now balance this out by applying the stratification method. This function takes in the dataset, the column to be balanced and the number of oservations, and returns a well-balanced column. \n"
      ]
    },
    {
      "cell_type": "code",
      "execution_count": null,
      "metadata": {
        "collapsed": true,
        "id": "6n-TxHRUsr6o"
      },
      "outputs": [],
      "source": [
        "def stratified(df, col, n_samples):\n",
        "    minimum = min(n_samples, df[col].value_counts().min())\n",
        "    col_groups = df.groupby(col).apply(lambda x: x.sample(minimum))\n",
        "    col_groups.index = col_groups.index.droplevel(0)\n",
        "    return col_groups\n",
        "\n",
        "df =stratified(data,'Class',958)\n",
        "df= pd.DataFrame(df)"
      ]
    },
    {
      "cell_type": "code",
      "execution_count": null,
      "metadata": {
        "id": "0FWPtWabsr6q",
        "outputId": "ca490baf-0a9c-4500-c2ec-ba852f173e08"
      },
      "outputs": [
        {
          "data": {
            "image/png": "[encoded data removed]",
            "text/plain": [
              "<matplotlib.figure.Figure at 0x10fd23c18>"
            ]
          },
          "metadata": {
            "needs_background": "light"
          },
          "output_type": "display_data"
        }
      ],
      "source": [
        "#plotting stratified target values\n",
        "count_classes = pd.value_counts(df['Class'],sort = True)\n",
        "count_classes.plot(kind = 'bar', rot =0,fontsize=10)\n",
        "plt.title(\"Class distribution\",fontsize=15)\n",
        "plt.xlabel(\"Classes\")\n",
        "plt.ylabel('Frequency')\n",
        "plt.show()\n"
      ]
    },
    {
      "cell_type": "code",
      "execution_count": null,
      "metadata": {
        "id": "Irj4GEnHsr6q",
        "outputId": "c52f2ef2-6866-413e-a3df-34602675b99e"
      },
      "outputs": [
        {
          "data": {
            "text/plain": [
              "negative    332\n",
              "positive    332\n",
              "Name: Class, dtype: int64"
            ]
          },
          "execution_count": 8,
          "metadata": {},
          "output_type": "execute_result"
        }
      ],
      "source": [
        "#number of Positive and Negative classes\n",
        "df['Class'].value_counts()"
      ]
    },
    {
      "cell_type": "markdown",
      "metadata": {
        "id": "yYm7beEOsr6r"
      },
      "source": [
        "Tis method has created an equal and balanced Class column based on the previous column. So now, instead of 626 positive values and 332 negative values, we have a randomly picked equal number of positive and negative values. \n"
      ]
    },
    {
      "cell_type": "markdown",
      "metadata": {
        "id": "YyYJ7VUHsr6r"
      },
      "source": [
        "We see that all of our data points are non-numeric values, so we will need to convert them into numeric values by using the pandas function get_dummies()."
      ]
    },
    {
      "cell_type": "code",
      "execution_count": null,
      "metadata": {
        "id": "jDN0Uym4sr6r",
        "outputId": "ba8b3f3f-5bc7-48fd-a70d-920b85c2aa0a"
      },
      "outputs": [
        {
          "data": {
            "text/html": [
              "<div>\n",
              "<style>\n",
              "    .dataframe thead tr:only-child th {\n",
              "        text-align: right;\n",
              "    }\n",
              "\n",
              "    .dataframe thead th {\n",
              "        text-align: left;\n",
              "    }\n",
              "\n",
              "    .dataframe tbody tr th {\n",
              "        vertical-align: top;\n",
              "    }\n",
              "</style>\n",
              "<table border=\"1\" class=\"dataframe\">\n",
              "  <thead>\n",
              "    <tr style=\"text-align: right;\">\n",
              "      <th></th>\n",
              "      <th>Class</th>\n",
              "    </tr>\n",
              "  </thead>\n",
              "  <tbody>\n",
              "    <tr>\n",
              "      <th>0</th>\n",
              "      <td>1</td>\n",
              "    </tr>\n",
              "    <tr>\n",
              "      <th>1</th>\n",
              "      <td>1</td>\n",
              "    </tr>\n",
              "    <tr>\n",
              "      <th>2</th>\n",
              "      <td>1</td>\n",
              "    </tr>\n",
              "    <tr>\n",
              "      <th>3</th>\n",
              "      <td>1</td>\n",
              "    </tr>\n",
              "    <tr>\n",
              "      <th>4</th>\n",
              "      <td>1</td>\n",
              "    </tr>\n",
              "  </tbody>\n",
              "</table>\n",
              "</div>"
            ],
            "text/plain": [
              "   Class\n",
              "0      1\n",
              "1      1\n",
              "2      1\n",
              "3      1\n",
              "4      1"
            ]
          },
          "execution_count": 9,
          "metadata": {},
          "output_type": "execute_result"
        }
      ],
      "source": [
        "#mapping categorical values of column \"class\" in numerical, i.e: positive = 1, and negative= 0\n",
        "target = data.Class.map({\n",
        "    'positive':1,\n",
        "    'negative':0\n",
        "}) \n",
        "target = pd.DataFrame(target)\n",
        "target.head()"
      ]
    },
    {
      "cell_type": "code",
      "execution_count": null,
      "metadata": {
        "id": "kJqI-sXPsr6s",
        "outputId": "81205f66-8a2b-4ea1-80bd-98365f03a345"
      },
      "outputs": [
        {
          "name": "stdout",
          "output_type": "stream",
          "text": [
            "<class 'pandas.core.frame.DataFrame'>\n",
            "RangeIndex: 958 entries, 0 to 957\n",
            "Data columns (total 8 columns):\n",
            "A    958 non-null object\n",
            "B    958 non-null object\n",
            "D    958 non-null object\n",
            "E    958 non-null object\n",
            "F    958 non-null object\n",
            "G    958 non-null object\n",
            "H    958 non-null object\n",
            "I    958 non-null object\n",
            "dtypes: object(8)\n",
            "memory usage: 60.0+ KB\n",
            "None\n",
            "<class 'pandas.core.frame.DataFrame'>\n",
            "RangeIndex: 958 entries, 0 to 957\n",
            "Data columns (total 1 columns):\n",
            "Class    958 non-null int64\n",
            "dtypes: int64(1)\n",
            "memory usage: 7.6 KB\n",
            "None\n"
          ]
        }
      ],
      "source": [
        "#create independent and dependent varialbes\n",
        "Y = target\n",
        "cols = data.columns.tolist()\n",
        "#filter the columns to remove data we do not want\n",
        "cols = [c for c in cols if c not in 'Class']\n",
        "X = data[cols]\n",
        "print(X.info())\n",
        "print(Y.info())"
      ]
    },
    {
      "cell_type": "code",
      "execution_count": null,
      "metadata": {
        "id": "PEiQWBd-sr6s",
        "outputId": "c50e715c-498f-4279-a935-3478b8cf53be"
      },
      "outputs": [
        {
          "data": {
            "text/html": [
              "<div>\n",
              "<style>\n",
              "    .dataframe thead tr:only-child th {\n",
              "        text-align: right;\n",
              "    }\n",
              "\n",
              "    .dataframe thead th {\n",
              "        text-align: left;\n",
              "    }\n",
              "\n",
              "    .dataframe tbody tr th {\n",
              "        vertical-align: top;\n",
              "    }\n",
              "</style>\n",
              "<table border=\"1\" class=\"dataframe\">\n",
              "  <thead>\n",
              "    <tr style=\"text-align: right;\">\n",
              "      <th></th>\n",
              "      <th>A</th>\n",
              "      <th>B</th>\n",
              "      <th>C</th>\n",
              "      <th>D</th>\n",
              "      <th>E</th>\n",
              "      <th>F</th>\n",
              "      <th>G</th>\n",
              "      <th>H</th>\n",
              "      <th>I</th>\n",
              "      <th>Class</th>\n",
              "    </tr>\n",
              "  </thead>\n",
              "  <tbody>\n",
              "    <tr>\n",
              "      <th>855</th>\n",
              "      <td>o</td>\n",
              "      <td>b</td>\n",
              "      <td>x</td>\n",
              "      <td>x</td>\n",
              "      <td>o</td>\n",
              "      <td>b</td>\n",
              "      <td>b</td>\n",
              "      <td>x</td>\n",
              "      <td>o</td>\n",
              "      <td>negative</td>\n",
              "    </tr>\n",
              "    <tr>\n",
              "      <th>705</th>\n",
              "      <td>x</td>\n",
              "      <td>b</td>\n",
              "      <td>x</td>\n",
              "      <td>x</td>\n",
              "      <td>x</td>\n",
              "      <td>o</td>\n",
              "      <td>o</td>\n",
              "      <td>o</td>\n",
              "      <td>o</td>\n",
              "      <td>negative</td>\n",
              "    </tr>\n",
              "    <tr>\n",
              "      <th>841</th>\n",
              "      <td>o</td>\n",
              "      <td>o</td>\n",
              "      <td>o</td>\n",
              "      <td>b</td>\n",
              "      <td>x</td>\n",
              "      <td>b</td>\n",
              "      <td>x</td>\n",
              "      <td>x</td>\n",
              "      <td>b</td>\n",
              "      <td>negative</td>\n",
              "    </tr>\n",
              "    <tr>\n",
              "      <th>840</th>\n",
              "      <td>o</td>\n",
              "      <td>o</td>\n",
              "      <td>o</td>\n",
              "      <td>b</td>\n",
              "      <td>x</td>\n",
              "      <td>x</td>\n",
              "      <td>b</td>\n",
              "      <td>b</td>\n",
              "      <td>x</td>\n",
              "      <td>negative</td>\n",
              "    </tr>\n",
              "    <tr>\n",
              "      <th>885</th>\n",
              "      <td>b</td>\n",
              "      <td>x</td>\n",
              "      <td>x</td>\n",
              "      <td>o</td>\n",
              "      <td>o</td>\n",
              "      <td>o</td>\n",
              "      <td>x</td>\n",
              "      <td>b</td>\n",
              "      <td>b</td>\n",
              "      <td>negative</td>\n",
              "    </tr>\n",
              "  </tbody>\n",
              "</table>\n",
              "</div>"
            ],
            "text/plain": [
              "     A  B  C  D  E  F  G  H  I     Class\n",
              "855  o  b  x  x  o  b  b  x  o  negative\n",
              "705  x  b  x  x  x  o  o  o  o  negative\n",
              "841  o  o  o  b  x  b  x  x  b  negative\n",
              "840  o  o  o  b  x  x  b  b  x  negative\n",
              "885  b  x  x  o  o  o  x  b  b  negative"
            ]
          },
          "execution_count": 11,
          "metadata": {},
          "output_type": "execute_result"
        }
      ],
      "source": [
        "df.head()"
      ]
    },
    {
      "cell_type": "markdown",
      "metadata": {
        "id": "uK1-Bpwdsr6t"
      },
      "source": [
        "We have creaded an equal distribution of the sample."
      ]
    },
    {
      "cell_type": "markdown",
      "metadata": {
        "id": "0KhGIRkKsr6t"
      },
      "source": [
        ""
      ]
    },
    {
      "cell_type": "markdown",
      "metadata": {
        "id": "12kYTINKsr6t"
      },
      "source": [
        "### Spliting data into training and testing "
      ]
    },
    {
      "cell_type": "code",
      "execution_count": null,
      "metadata": {
        "collapsed": true,
        "id": "e_u3YWBvsr6u"
      },
      "outputs": [],
      "source": [
        "def train_test_split(datase, size):\n",
        "    train_data = datase.sample(frac=size)\n",
        "    test_data = datase.drop(train_data.index)\n",
        "    return train_data,test_data"
      ]
    },
    {
      "cell_type": "code",
      "execution_count": null,
      "metadata": {
        "collapsed": true,
        "id": "eO-IdECasr6u"
      },
      "outputs": [],
      "source": [
        "#training and testing sets\n",
        "train, test = train_test_split(df,0.8)"
      ]
    },
    {
      "cell_type": "code",
      "execution_count": null,
      "metadata": {
        "collapsed": true,
        "id": "DER9WQigsr6u"
      },
      "outputs": [],
      "source": [
        "#splitting the data into training and testing data\n",
        "\n",
        "X_train = train.drop(['Class'],axis =1)\n",
        "X_test = test.drop(['Class'],axis = 1)\n",
        "\n",
        "Y_train = train['Class'].map({'positive':1,'negative':0})\n",
        "Y_test = test['Class'].map({'positive':1,'negative':0})"
      ]
    },
    {
      "cell_type": "code",
      "execution_count": null,
      "metadata": {
        "id": "yU9MM4-Tsr6u",
        "outputId": "bab8c23e-fe3b-479f-ad46-c631f543df15"
      },
      "outputs": [
        {
          "data": {
            "text/html": [
              "<div>\n",
              "<style>\n",
              "    .dataframe thead tr:only-child th {\n",
              "        text-align: right;\n",
              "    }\n",
              "\n",
              "    .dataframe thead th {\n",
              "        text-align: left;\n",
              "    }\n",
              "\n",
              "    .dataframe tbody tr th {\n",
              "        vertical-align: top;\n",
              "    }\n",
              "</style>\n",
              "<table border=\"1\" class=\"dataframe\">\n",
              "  <thead>\n",
              "    <tr style=\"text-align: right;\">\n",
              "      <th></th>\n",
              "      <th>A</th>\n",
              "      <th>B</th>\n",
              "      <th>C</th>\n",
              "      <th>D</th>\n",
              "      <th>E</th>\n",
              "      <th>F</th>\n",
              "      <th>G</th>\n",
              "      <th>H</th>\n",
              "      <th>I</th>\n",
              "    </tr>\n",
              "  </thead>\n",
              "  <tbody>\n",
              "    <tr>\n",
              "      <th>873</th>\n",
              "      <td>o</td>\n",
              "      <td>b</td>\n",
              "      <td>b</td>\n",
              "      <td>x</td>\n",
              "      <td>o</td>\n",
              "      <td>b</td>\n",
              "      <td>x</td>\n",
              "      <td>x</td>\n",
              "      <td>o</td>\n",
              "    </tr>\n",
              "    <tr>\n",
              "      <th>107</th>\n",
              "      <td>x</td>\n",
              "      <td>x</td>\n",
              "      <td>b</td>\n",
              "      <td>o</td>\n",
              "      <td>x</td>\n",
              "      <td>o</td>\n",
              "      <td>b</td>\n",
              "      <td>x</td>\n",
              "      <td>o</td>\n",
              "    </tr>\n",
              "    <tr>\n",
              "      <th>213</th>\n",
              "      <td>x</td>\n",
              "      <td>o</td>\n",
              "      <td>b</td>\n",
              "      <td>o</td>\n",
              "      <td>x</td>\n",
              "      <td>b</td>\n",
              "      <td>b</td>\n",
              "      <td>b</td>\n",
              "      <td>x</td>\n",
              "    </tr>\n",
              "    <tr>\n",
              "      <th>528</th>\n",
              "      <td>b</td>\n",
              "      <td>o</td>\n",
              "      <td>x</td>\n",
              "      <td>x</td>\n",
              "      <td>x</td>\n",
              "      <td>x</td>\n",
              "      <td>b</td>\n",
              "      <td>o</td>\n",
              "      <td>o</td>\n",
              "    </tr>\n",
              "    <tr>\n",
              "      <th>9</th>\n",
              "      <td>x</td>\n",
              "      <td>x</td>\n",
              "      <td>x</td>\n",
              "      <td>x</td>\n",
              "      <td>b</td>\n",
              "      <td>o</td>\n",
              "      <td>o</td>\n",
              "      <td>o</td>\n",
              "      <td>b</td>\n",
              "    </tr>\n",
              "  </tbody>\n",
              "</table>\n",
              "</div>"
            ],
            "text/plain": [
              "     A  B  C  D  E  F  G  H  I\n",
              "873  o  b  b  x  o  b  x  x  o\n",
              "107  x  x  b  o  x  o  b  x  o\n",
              "213  x  o  b  o  x  b  b  b  x\n",
              "528  b  o  x  x  x  x  b  o  o\n",
              "9    x  x  x  x  b  o  o  o  b"
            ]
          },
          "execution_count": 15,
          "metadata": {},
          "output_type": "execute_result"
        }
      ],
      "source": [
        "X_train = pd.DataFrame(X_train)\n",
        "X_train.head()"
      ]
    },
    {
      "cell_type": "code",
      "execution_count": null,
      "metadata": {
        "id": "lowQBu_Wsr6v",
        "outputId": "c1322b9d-a825-4f2e-b53a-8b039b81f2f9"
      },
      "outputs": [
        {
          "data": {
            "text/html": [
              "<div>\n",
              "<style>\n",
              "    .dataframe thead tr:only-child th {\n",
              "        text-align: right;\n",
              "    }\n",
              "\n",
              "    .dataframe thead th {\n",
              "        text-align: left;\n",
              "    }\n",
              "\n",
              "    .dataframe tbody tr th {\n",
              "        vertical-align: top;\n",
              "    }\n",
              "</style>\n",
              "<table border=\"1\" class=\"dataframe\">\n",
              "  <thead>\n",
              "    <tr style=\"text-align: right;\">\n",
              "      <th></th>\n",
              "      <th>A_b</th>\n",
              "      <th>A_o</th>\n",
              "      <th>A_x</th>\n",
              "      <th>B_b</th>\n",
              "      <th>B_o</th>\n",
              "      <th>B_x</th>\n",
              "      <th>C_b</th>\n",
              "      <th>C_o</th>\n",
              "      <th>C_x</th>\n",
              "      <th>D_b</th>\n",
              "      <th>...</th>\n",
              "      <th>F_x</th>\n",
              "      <th>G_b</th>\n",
              "      <th>G_o</th>\n",
              "      <th>G_x</th>\n",
              "      <th>H_b</th>\n",
              "      <th>H_o</th>\n",
              "      <th>H_x</th>\n",
              "      <th>I_b</th>\n",
              "      <th>I_o</th>\n",
              "      <th>I_x</th>\n",
              "    </tr>\n",
              "  </thead>\n",
              "  <tbody>\n",
              "    <tr>\n",
              "      <th>873</th>\n",
              "      <td>0</td>\n",
              "      <td>1</td>\n",
              "      <td>0</td>\n",
              "      <td>1</td>\n",
              "      <td>0</td>\n",
              "      <td>0</td>\n",
              "      <td>1</td>\n",
              "      <td>0</td>\n",
              "      <td>0</td>\n",
              "      <td>0</td>\n",
              "      <td>...</td>\n",
              "      <td>0</td>\n",
              "      <td>0</td>\n",
              "      <td>0</td>\n",
              "      <td>1</td>\n",
              "      <td>0</td>\n",
              "      <td>0</td>\n",
              "      <td>1</td>\n",
              "      <td>0</td>\n",
              "      <td>1</td>\n",
              "      <td>0</td>\n",
              "    </tr>\n",
              "    <tr>\n",
              "      <th>107</th>\n",
              "      <td>0</td>\n",
              "      <td>0</td>\n",
              "      <td>1</td>\n",
              "      <td>0</td>\n",
              "      <td>0</td>\n",
              "      <td>1</td>\n",
              "      <td>1</td>\n",
              "      <td>0</td>\n",
              "      <td>0</td>\n",
              "      <td>0</td>\n",
              "      <td>...</td>\n",
              "      <td>0</td>\n",
              "      <td>1</td>\n",
              "      <td>0</td>\n",
              "      <td>0</td>\n",
              "      <td>0</td>\n",
              "      <td>0</td>\n",
              "      <td>1</td>\n",
              "      <td>0</td>\n",
              "      <td>1</td>\n",
              "      <td>0</td>\n",
              "    </tr>\n",
              "    <tr>\n",
              "      <th>213</th>\n",
              "      <td>0</td>\n",
              "      <td>0</td>\n",
              "      <td>1</td>\n",
              "      <td>0</td>\n",
              "      <td>1</td>\n",
              "      <td>0</td>\n",
              "      <td>1</td>\n",
              "      <td>0</td>\n",
              "      <td>0</td>\n",
              "      <td>0</td>\n",
              "      <td>...</td>\n",
              "      <td>0</td>\n",
              "      <td>1</td>\n",
              "      <td>0</td>\n",
              "      <td>0</td>\n",
              "      <td>1</td>\n",
              "      <td>0</td>\n",
              "      <td>0</td>\n",
              "      <td>0</td>\n",
              "      <td>0</td>\n",
              "      <td>1</td>\n",
              "    </tr>\n",
              "    <tr>\n",
              "      <th>528</th>\n",
              "      <td>1</td>\n",
              "      <td>0</td>\n",
              "      <td>0</td>\n",
              "      <td>0</td>\n",
              "      <td>1</td>\n",
              "      <td>0</td>\n",
              "      <td>0</td>\n",
              "      <td>0</td>\n",
              "      <td>1</td>\n",
              "      <td>0</td>\n",
              "      <td>...</td>\n",
              "      <td>1</td>\n",
              "      <td>1</td>\n",
              "      <td>0</td>\n",
              "      <td>0</td>\n",
              "      <td>0</td>\n",
              "      <td>1</td>\n",
              "      <td>0</td>\n",
              "      <td>0</td>\n",
              "      <td>1</td>\n",
              "      <td>0</td>\n",
              "    </tr>\n",
              "    <tr>\n",
              "      <th>9</th>\n",
              "      <td>0</td>\n",
              "      <td>0</td>\n",
              "      <td>1</td>\n",
              "      <td>0</td>\n",
              "      <td>0</td>\n",
              "      <td>1</td>\n",
              "      <td>0</td>\n",
              "      <td>0</td>\n",
              "      <td>1</td>\n",
              "      <td>0</td>\n",
              "      <td>...</td>\n",
              "      <td>0</td>\n",
              "      <td>0</td>\n",
              "      <td>1</td>\n",
              "      <td>0</td>\n",
              "      <td>0</td>\n",
              "      <td>1</td>\n",
              "      <td>0</td>\n",
              "      <td>1</td>\n",
              "      <td>0</td>\n",
              "      <td>0</td>\n",
              "    </tr>\n",
              "  </tbody>\n",
              "</table>\n",
              "<p>5 rows × 27 columns</p>\n",
              "</div>"
            ],
            "text/plain": [
              "     A_b  A_o  A_x  B_b  B_o  B_x  C_b  C_o  C_x  D_b ...   F_x  G_b  G_o  \\\n",
              "873    0    1    0    1    0    0    1    0    0    0 ...     0    0    0   \n",
              "107    0    0    1    0    0    1    1    0    0    0 ...     0    1    0   \n",
              "213    0    0    1    0    1    0    1    0    0    0 ...     0    1    0   \n",
              "528    1    0    0    0    1    0    0    0    1    0 ...     1    1    0   \n",
              "9      0    0    1    0    0    1    0    0    1    0 ...     0    0    1   \n",
              "\n",
              "     G_x  H_b  H_o  H_x  I_b  I_o  I_x  \n",
              "873    1    0    0    1    0    1    0  \n",
              "107    0    0    0    1    0    1    0  \n",
              "213    0    1    0    0    0    0    1  \n",
              "528    0    0    1    0    0    1    0  \n",
              "9      0    0    1    0    1    0    0  \n",
              "\n",
              "[5 rows x 27 columns]"
            ]
          },
          "execution_count": 16,
          "metadata": {},
          "output_type": "execute_result"
        }
      ],
      "source": [
        "#converting the X train and test dataset into numerical values\n",
        "X_train =  pd.get_dummies(X_train.copy())\n",
        "X_test = pd.get_dummies(X_test.copy())\n",
        "X_train.head()\n"
      ]
    },
    {
      "cell_type": "code",
      "execution_count": null,
      "metadata": {
        "id": "s-XDcBepsr6v",
        "outputId": "d2ec0255-add7-45b6-d5e1-d25358ab1e27"
      },
      "outputs": [
        {
          "name": "stdout",
          "output_type": "stream",
          "text": [
            "<class 'pandas.core.frame.DataFrame'>\n",
            "Int64Index: 531 entries, 873 to 937\n",
            "Data columns (total 27 columns):\n",
            "A_b    531 non-null uint8\n",
            "A_o    531 non-null uint8\n",
            "A_x    531 non-null uint8\n",
            "B_b    531 non-null uint8\n",
            "B_o    531 non-null uint8\n",
            "B_x    531 non-null uint8\n",
            "C_b    531 non-null uint8\n",
            "C_o    531 non-null uint8\n",
            "C_x    531 non-null uint8\n",
            "D_b    531 non-null uint8\n",
            "D_o    531 non-null uint8\n",
            "D_x    531 non-null uint8\n",
            "E_b    531 non-null uint8\n",
            "E_o    531 non-null uint8\n",
            "E_x    531 non-null uint8\n",
            "F_b    531 non-null uint8\n",
            "F_o    531 non-null uint8\n",
            "F_x    531 non-null uint8\n",
            "G_b    531 non-null uint8\n",
            "G_o    531 non-null uint8\n",
            "G_x    531 non-null uint8\n",
            "H_b    531 non-null uint8\n",
            "H_o    531 non-null uint8\n",
            "H_x    531 non-null uint8\n",
            "I_b    531 non-null uint8\n",
            "I_o    531 non-null uint8\n",
            "I_x    531 non-null uint8\n",
            "dtypes: uint8(27)\n",
            "memory usage: 18.1 KB\n"
          ]
        }
      ],
      "source": [
        "X_train.info()"
      ]
    },
    {
      "cell_type": "markdown",
      "metadata": {
        "id": "xwEhfMgVsr6v"
      },
      "source": [
        "## Linear regression with gradient descent\n"
      ]
    },
    {
      "cell_type": "markdown",
      "metadata": {
        "id": "YyU6th4Csr6v"
      },
      "source": [
        "To learn a Linear Regression Model, we will first define the following funtions:\n",
        "* The log likelihood (objective function)\n",
        "* y_pred \n",
        "* gradient\n",
        "    \n"
      ]
    },
    {
      "cell_type": "markdown",
      "metadata": {
        "id": "IhKIld5Psr6w"
      },
      "source": [
        "__Log likelihood function:__\n",
        "$$Log L D (\\beta) = \\sum_{n=1}^{N} yn(Xn, \\beta) - log(1 + e^{(Xn.\\beta)}) $$"
      ]
    },
    {
      "cell_type": "code",
      "execution_count": null,
      "metadata": {
        "collapsed": true,
        "id": "bMdIHkzgsr6w"
      },
      "outputs": [],
      "source": [
        "#Compute log Likehood\n",
        "def loglikelihood(X_train,Y_train,b):\n",
        "    return np.sum((Y_train * (X_train.dot(b.T))) - np.log(1 + np.exp((X_train.dot(b.T)))))"
      ]
    },
    {
      "cell_type": "markdown",
      "metadata": {
        "id": "V5OK8Accsr6w"
      },
      "source": [
        "The linear regression model is given by: $$Y^n = \\sigma(\\beta^T X^n)$$  where $\\sigma$ is a logistic function.\n",
        "\n",
        "$$\\mathbf{\\sigma} = \\frac{1}  {1 +e^{-\\beta^T X^n}} $$"
      ]
    },
    {
      "cell_type": "code",
      "execution_count": null,
      "metadata": {
        "collapsed": true,
        "id": "RthyH2IQsr6w"
      },
      "outputs": [],
      "source": [
        "def y_pred(X_train,b):\n",
        "    return 1/(1+np.exp(X_train.dot(b)))"
      ]
    },
    {
      "cell_type": "markdown",
      "metadata": {
        "id": "UnwdU_86sr6w"
      },
      "source": [
        "Gradient function: \n",
        "$$\\frac{\\partial LD^{cond}(\\beta)}{\\partial\\beta}= \\sum_{n=1}^{N} ynXn - \\frac{1}  {1 +e^{-\\beta^T X^n}} Xn$$"
      ]
    },
    {
      "cell_type": "code",
      "execution_count": null,
      "metadata": {
        "collapsed": true,
        "id": "eONBqldtsr6x"
      },
      "outputs": [],
      "source": [
        "#the derivative\n",
        "def gradient(X_train,Y_train,yhat): \n",
        "    error = Y_train - yhat\n",
        "    return np.dot(error,X_train)"
      ]
    },
    {
      "cell_type": "markdown",
      "source": [
        "#### Step size: Bold driver"
      ],
      "metadata": {
        "id": "ArhL-my3tnm3"
      }
    },
    {
      "cell_type": "code",
      "execution_count": null,
      "metadata": {
        "collapsed": true,
        "id": "MzZXndIqsr6x"
      },
      "outputs": [],
      "source": [
        "#choosing a step length -->bold driver\n",
        "\n",
        "def bolddriver(X_train,Y_train,b, alpha_old, alpha_plus,alpha_minus,d):\n",
        "    fx = loglikelihood(X_train,Y_train,b)\n",
        "    alpha = alpha_old * alpha_plus\n",
        "    \n",
        "    while fx - loglikelihood(X_train,Y_train,(b + alpha * d)) <= -0.001:  \n",
        "        alpha = alpha * alpha_minus\n",
        "    return alpha\n",
        "        "
      ]
    },
    {
      "cell_type": "markdown",
      "metadata": {
        "id": "s6Bn1eNusr6x"
      },
      "source": [
        "In order to get the step length values from the our bolddriver function, we will compute the following function."
      ]
    },
    {
      "cell_type": "code",
      "execution_count": null,
      "metadata": {
        "collapsed": true,
        "id": "RoXmJiiLsr6x"
      },
      "outputs": [],
      "source": [
        "\n",
        "def compute_alpha(X_train,Y_train,b,prev_alpha):\n",
        "    yhat = y_pred(X_train,b)\n",
        "    d= gradient(X_train,Y_train, yhat)#current gradient\n",
        "    new_alpha = bolddriver(X_train,Y_train,b,prev_alpha, 1.1, 0.5, d)#get new values for new step length\n",
        "    return new_alpha #returns new alpha"
      ]
    },
    {
      "cell_type": "code",
      "execution_count": null,
      "metadata": {
        "collapsed": true,
        "id": "9J_KWk0rsr6x"
      },
      "outputs": [],
      "source": [
        "def sga_bolddriver(X_train,Y_train,b,alpha):\n",
        "    prev_b = b #setting the current beta as the previous \n",
        "    shuffler = np.random.randint(0,X_train.shape[0],X_train.shape[0]) #randomly generates a list of numbers \n",
        "    \n",
        "    for i in shuffler: #for each row picked by the shuffler\n",
        "        y_hat = y_pred(X_train.iloc[i], prev_b)\n",
        "        grad = gradient(X_train.iloc[i], Y_train.iloc[i], y_hat)#computing the gradient for the chosen row\n",
        "        prev_b = b #set beta\n",
        "        b = prev_b + alpha * grad #update rule\n",
        "    return b\n"
      ]
    },
    {
      "cell_type": "markdown",
      "source": [
        "#### Learn Linear regression function "
      ],
      "metadata": {
        "id": "8BizSk30t6V2"
      }
    },
    {
      "cell_type": "code",
      "execution_count": null,
      "metadata": {
        "collapsed": true,
        "id": "nCXmOR9xsr6y"
      },
      "outputs": [],
      "source": [
        "#learn-logreg-GA\n",
        "\n",
        "def learn_logreg_GA(X_train,Y_train, max_iteration,X_test,Y_test):\n",
        "    func_diff = []# f(x-1) - f(x) \n",
        "    log_loss = []#log loss on test data\n",
        "    b = np.zeros(X_train.shape[1])#we initialize beta with zeros\n",
        "    alpha = 0.1\n",
        "    epsillon = 0.0000001\n",
        "    \n",
        "    L = loglikelihood(X_train,Y_train,b)#initial log likelihood \n",
        "    \n",
        "    for i in range(max_iteration):\n",
        "        prev_log = L\n",
        "        alpha = compute_alpha(X_train,Y_train,b,alpha)\n",
        "        b = sga_bolddriver(X_train,Y_train,b,alpha)#update beta\n",
        "        \n",
        "        L = loglikelihood(X_train, Y_train,b)\n",
        "        diff = abs (L - prev_log)#differences between logs \n",
        "        func_diff.append(diff)\n",
        "        \n",
        "        diff_test = loglikelihood(X_test, Y_test, b)    #compute log loss on test dataset\n",
        "        log_loss.append((diff_test))\n",
        "        \n",
        "        \n",
        "        #stopping criteria\n",
        "        if diff < epsillon:\n",
        "            print(\"The model converged after {} iteration\".format(i))\n",
        "            return func_diff,log_loss\n",
        "    #if not converged \n",
        "    print(\"The model did not converge after {} iteration\".format(max_iteration))\n",
        "    return func_diff,log_loss     \n"
      ]
    },
    {
      "cell_type": "markdown",
      "metadata": {
        "id": "YXSaXha2sr6y"
      },
      "source": [
        "### Linear regression model"
      ]
    },
    {
      "cell_type": "code",
      "execution_count": null,
      "metadata": {
        "collapsed": true,
        "id": "cw1bG0lNsr6y"
      },
      "outputs": [],
      "source": [
        "\n",
        "figure =plt.rcParams['figure.figsize']\n",
        "figure[0]= 16\n",
        "figure[1]= 8\n",
        "plt.rcParams['figure.figsize'] = figure"
      ]
    },
    {
      "cell_type": "code",
      "execution_count": null,
      "metadata": {
        "id": "niNlnjwOsr6y",
        "outputId": "7332279f-d509-4879-ea2e-84adf8d864ca"
      },
      "outputs": [
        {
          "name": "stdout",
          "output_type": "stream",
          "text": [
            "The model did not converge after 100 iteration\n"
          ]
        }
      ],
      "source": [
        "max_iteration = 100\n",
        "\n",
        "func_diff, log_loss = learn_logreg_GA(X_train,Y_train, max_iteration,X_test,Y_test)\n"
      ]
    },
    {
      "cell_type": "code",
      "execution_count": null,
      "metadata": {
        "id": "Say8RjlXsr6z",
        "outputId": "13dc3741-66a2-4e37-c239-68fac03ac787"
      },
      "outputs": [
        {
          "data": {
            "image/png": "[encoded data removed]",
            "text/plain": [
              "<matplotlib.figure.Figure at 0x1a20ea2fd0>"
            ]
          },
          "metadata": {
            "needs_background": "light"
          },
          "output_type": "display_data"
        }
      ],
      "source": [
        "fig, axarr= plt.subplots(1, 2)\n",
        "\n",
        "axarr[0].set_title(\"|f(x-1) - f(x)| using SGA\")\n",
        "axarr[0].plot(np.arange(1,len(func_diff) +1), func_diff, color=\"red\")\n",
        "\n",
        "axarr[1].set_title(\"Log Loss on Test dataset using SGA\")\n",
        "axarr[1].plot(np.arange(1,(len(log_loss) +1)), log_loss)\n",
        "\n",
        "plt.xlabel(\"Iterations\")\n",
        "plt.show()"
      ]
    },
    {
      "cell_type": "markdown",
      "metadata": {
        "id": "pKwiD36Qsr6z"
      },
      "source": [
        "__Comment:__\n",
        "The Graphs above are the results of running the logistic model on the Tic Tac Toe dataset. The left plot is the Log likelihood difference between iterations on the training dataset and the graph on the right is the Log Loss on the testing dataset.\n",
        "\n",
        "The interesting thing to notice here is that the Log Likelihood difference on the testing dataset increases with the number of iterations. For the first 60 iterations, the loss differences are close to 0 but increase drastically after the 60th iterations.\n",
        "\n",
        "As for the log loss in the testing dataset, we notice that the Log Loss is constant and close to 0 for the first 50 iterations, then decreases drastically with the number of iterations. \n"
      ]
    },
    {
      "cell_type": "markdown",
      "metadata": {
        "id": "u2tk7Dppsr6z"
      },
      "source": [
        "### Implementing Stochastic Gradient Ascent with AdaGrad for adaptive step length"
      ]
    },
    {
      "cell_type": "markdown",
      "metadata": {
        "id": "H7HRGprVsr6z"
      },
      "source": [
        "### Implementation of Stepsize Adagrad function."
      ]
    },
    {
      "cell_type": "markdown",
      "metadata": {
        "id": "CqMeIe9Osr6z"
      },
      "source": [
        "To use AdaGrad to compute the step length in each SGA iterations, we will use the function below. The function takes as a parameter:\n",
        "* Current Gradient\n",
        "* Previous Gradient History\n",
        "* Old Stepsize\n",
        "\n",
        "THe function then returns the updated Stepsize and the gradient history."
      ]
    },
    {
      "cell_type": "code",
      "execution_count": null,
      "metadata": {
        "collapsed": true,
        "id": "L2DSJMEXsr6z"
      },
      "outputs": [],
      "source": [
        "def compute_alpha_ada(g, h, old_stepsize):\n",
        "    \n",
        "    h = h + np.multiply(g,g)\n",
        "    \n",
        "    stepsize = old_stepsize / np.sqrt(h)    \n",
        "    \n",
        "    return stepsize, h"
      ]
    },
    {
      "cell_type": "markdown",
      "metadata": {
        "id": "jHzTuFH2sr60"
      },
      "source": [
        "In order to use AdaGrad, the function for Stochastic Gradient Ascent was slightly modified. The step size in this function is now a vector of same size as the gradient.\n",
        "\n",
        "In each iteration, the function will now compute the Step Size with the Adagrad Function, by passing the current gradient, the history of gradient and previous step size."
      ]
    },
    {
      "cell_type": "code",
      "execution_count": null,
      "metadata": {
        "collapsed": true,
        "id": "cLBS6nqmsr60"
      },
      "outputs": [],
      "source": [
        "def SGA_adagrad (X_train, Y_train, beta): \n",
        "    \n",
        "    prev_beta = beta\n",
        "    \n",
        "    yhat = y_pred(X_train, prev_beta)\n",
        "    \n",
        "    grad = gradient(X_train, Y_train, yhat)\n",
        "    \n",
        "    prev_gradient = np.ones(beta.shape[0])\n",
        "    \n",
        "    stepsize = [0.001] * len(prev_gradient)\n",
        "    \n",
        "    random_list = np.random.randint(0, X_train.shape[0], X_train.shape[0])\n",
        "    \n",
        "    for n in random_list:\n",
        "        \n",
        "        stepsize, prev_gradient = compute_alpha_ada(grad, prev_gradient, stepsize)\n",
        "        \n",
        "        yhat = y_pred(X_train.iloc[n], prev_beta)\n",
        "        \n",
        "        grad = gradient(X_train.iloc[n],Y_train.iloc[n], yhat)  \n",
        "        \n",
        "        prev_beta = beta\n",
        "\n",
        "        beta = prev_beta + stepsize * grad\n",
        "    \n",
        "    return beta"
      ]
    },
    {
      "cell_type": "markdown",
      "metadata": {
        "id": "pFiljxJ8sr60"
      },
      "source": [
        "To use the Adagrad algorithm for computing step length, the function to learn a Logistic Regression was also modified. This function now no longer computes the Step Size as this is done in the stochastic gradient function."
      ]
    },
    {
      "cell_type": "code",
      "execution_count": null,
      "metadata": {
        "collapsed": true,
        "id": "I_ib2Eoesr60"
      },
      "outputs": [],
      "source": [
        "def learn_logreg_GA_ADA(X_train, Y_train, max_interation, X_test, Y_test):\n",
        "    \n",
        "    func_diff = []# f(x-1) - f(x) \n",
        "    log_loss = []#log loss on test data\n",
        "    #f_diff_loss = []\n",
        "    #log_list_loss = []    \n",
        "    \n",
        "    beta = np.ones(X_train.shape[1])\n",
        "    \n",
        "    epsillon = 0.0000001\n",
        "    \n",
        "    log_likelihood = loglikelihood(X_train, Y_train,beta)\n",
        "    \n",
        "    for i in range(max_interation):\n",
        "        \n",
        "        prev_log = log_likelihood\n",
        "        \n",
        "        beta = SGA_adagrad(X_train, Y_train, beta)\n",
        "        \n",
        "        log_likelihood = loglikelihood(X_train, Y_train, beta)\n",
        "        \n",
        "        diff = abs(prev_log - log_likelihood)\n",
        "        func_diff.append(diff)\n",
        "           \n",
        "        logloss_test = loglikelihood(X_test, Y_test, beta)\n",
        "        log_loss.append(abs(logloss_test))\n",
        "        \n",
        "        \n",
        "        if diff < epsillon:\n",
        "            \n",
        "            print(\"Model converged after {} iterations.\".format(i))\n",
        "            \n",
        "            return func_diff,log_loss   \n",
        "    \n",
        "    print(\"Model did not converge after {} iterations.\".format(max_interation))\n",
        "    \n",
        "    return func_diff,log_loss      "
      ]
    },
    {
      "cell_type": "markdown",
      "metadata": {
        "id": "zNRHmzoasr60"
      },
      "source": [
        "## Evaluating the Logistic Regression Model"
      ]
    },
    {
      "cell_type": "code",
      "execution_count": null,
      "metadata": {
        "id": "7WD-KVmWsr61",
        "outputId": "7a85a4b0-35a8-4be8-dcc4-d49746d016c6"
      },
      "outputs": [
        {
          "name": "stdout",
          "output_type": "stream",
          "text": [
            "Model converged after 23 iterations.\n"
          ]
        }
      ],
      "source": [
        "max_iteration = 100\n",
        "func_diff_ada,log_loss_ada  = learn_logreg_GA_ADA(X_train, Y_train, max_iteration, X_test,Y_test)"
      ]
    },
    {
      "cell_type": "code",
      "execution_count": null,
      "metadata": {
        "id": "xmmQktDMsr61",
        "outputId": "5522b83d-9c7a-41f6-e747-60cb160d65e1"
      },
      "outputs": [
        {
          "data": {
            "image/png": "[encoded data removed]",
            "text/plain": [
              "<matplotlib.figure.Figure at 0x1a21c99278>"
            ]
          },
          "metadata": {
            "needs_background": "light"
          },
          "output_type": "display_data"
        }
      ],
      "source": [
        "fig1, axarr1= plt.subplots(1, 2)\n",
        "\n",
        "axarr1[0].set_title(\"|f(x-1) - f(x)| on Tic Tac Toe Dataset using Adagrad\")\n",
        "axarr1[0].plot(np.arange(1,len(func_diff_ada) +1), func_diff_ada, color=\"red\")\n",
        "\n",
        "axarr1[1].set_title(\"Log Loss on Tic Tac Toe Dataset using Adagrad\")\n",
        "axarr1[1].plot(np.arange(1,len(log_loss_ada) +1), log_loss_ada)\n",
        "\n",
        "plt.show()"
      ]
    },
    {
      "cell_type": "markdown",
      "metadata": {
        "id": "bRkkLVKhsr61"
      },
      "source": [
        "### Implement Newton Algorithm"
      ]
    },
    {
      "cell_type": "code",
      "execution_count": null,
      "metadata": {
        "collapsed": true,
        "id": "PoChBY7Isr61"
      },
      "outputs": [],
      "source": [
        "#first derivative or gradient g \n",
        "\n",
        "def gradient_g(X_train,Y_train,b): \n",
        "    yhat= y_pred(X_train,b)\n",
        "    return np.dot(X_train.T, (Y_train - y_hat))\n",
        "    "
      ]
    },
    {
      "cell_type": "code",
      "execution_count": null,
      "metadata": {
        "collapsed": true,
        "id": "fOim0jLWsr62"
      },
      "outputs": [],
      "source": [
        "#defining the hessian matrix\n",
        "def hessian(X_train,b):\n",
        "    yhat= y_pred(X_train,b)\n",
        "    W = np.diag(y_hat*(1 - y_hat))\n",
        "    return np.dot(X_train.T, (np.dot(W, X_train)))"
      ]
    },
    {
      "cell_type": "code",
      "execution_count": null,
      "metadata": {
        "collapsed": true,
        "id": "eiaFIPbTsr62"
      },
      "outputs": [],
      "source": [
        "def learn_logreg_GA_newton(X_train,Y_train,max_iteration, beta_old, X_test,Y_test ):\n",
        "    func_diff = []# f(x-1) - f(x) \n",
        "    log_loss = []#log loss on test data\n",
        "    beta_old = np.zeros(X_train.shape[1])\n",
        "    epsillon = 0.000000001\n",
        "    #y_hats = []\n",
        "    #losses = []\n",
        "    #before optimization\n",
        "    L = loglikelihood(X_train,Y_train,beta_old)#initial log likelihood \n",
        "    y_hat = y_pred(X_train, beta_old)\n",
        "    for i in range(max_iteration):\n",
        "        prev_log = L\n",
        "        gradient = np.dot(X_train.T, (Y_train - y_hat)) #first derivative--could have also used the dunction defined previously\n",
        "        W = np.diag(y_hat*(1 - y_hat)) #diagonal matrix\n",
        "        h = np.dot(X_train.T, (np.dot(W, X_train))) #hessian matrix--could have also used the dunction defined previously\n",
        "        beta_new =  beta_old + 0.1 *np.dot( np.linalg.pinv(h),gradient)  #update rule\n",
        "        beta_old = beta_new #update beta_old\n",
        "       \n",
        "        #after optimization\n",
        "        L = loglikelihood(X_train,Y_train,beta_old)\n",
        "        \n",
        "        diff = abs (L - prev_log)#differences between logs \n",
        "        func_diff.append(diff)\n",
        "        \n",
        "        diff_test = loglikelihood(X_test,Y_test,beta_old) #compute log loss on test dataset\n",
        "        log_loss.append((diff_test))\n",
        "        \n",
        "        \n",
        "        #stopping criteria\n",
        "        if diff < epsillon:\n",
        "            print(\"The model converged after {} iteration\".format(i))\n",
        "            return func_diff,log_loss\n",
        "    #if not converged \n",
        "    print(\"The model did not converge after {} iteration\".format(max_iteration))\n",
        "    return func_diff,log_loss     \n"
      ]
    },
    {
      "cell_type": "markdown",
      "metadata": {
        "id": "3TH9rBJQsr62"
      },
      "source": [
        "### Evaluating the Logistic Regression Model\n",
        "\n",
        "The maximum number of iterations chosen is 100."
      ]
    },
    {
      "cell_type": "code",
      "execution_count": null,
      "metadata": {
        "id": "f5bUn6VRsr62",
        "outputId": "2be046d0-3c3e-4cac-da4f-fc66cfd3147a"
      },
      "outputs": [
        {
          "name": "stdout",
          "output_type": "stream",
          "text": [
            "The model did not converge after 100 iteration\n"
          ]
        }
      ],
      "source": [
        "max_iteration = 100\n",
        "beta_old = np.zeros(X_train.shape[1])\n",
        "\n",
        "func_diff_newton, log_loss_newton = learn_logreg_GA_newton(X_train,Y_train, max_iteration,beta_old,X_test,Y_test)\n"
      ]
    },
    {
      "cell_type": "code",
      "execution_count": null,
      "metadata": {
        "collapsed": true,
        "id": "v48r6fCysr63"
      },
      "outputs": [],
      "source": [
        "figure =plt.rcParams['figure.figsize']\n",
        "figure[0]= 16\n",
        "figure[1]= 8\n",
        "plt.rcParams['figure.figsize'] = figure"
      ]
    },
    {
      "cell_type": "markdown",
      "metadata": {
        "id": "DFMEmq4gsr63"
      },
      "source": [
        ""
      ]
    },
    {
      "cell_type": "code",
      "execution_count": null,
      "metadata": {
        "id": "xRReWhkVsr63",
        "outputId": "910d704e-1c06-4dee-fcf1-487981183369"
      },
      "outputs": [
        {
          "data": {
            "image/png": "[encoded data removed]",
            "text/plain": [
              "<matplotlib.figure.Figure at 0x10fcdf908>"
            ]
          },
          "metadata": {
            "needs_background": "light"
          },
          "output_type": "display_data"
        }
      ],
      "source": [
        "#plotting the likelihood differences and the log loss\n",
        "fig, axarr= plt.subplots(1, 2)\n",
        "\n",
        "axarr[0].set_title(\"|f(x-1) - f(x)| using Newton method\")\n",
        "axarr[0].plot(np.arange(1,len(func_diff_newton) +1), func_diff_newton, color=\"red\")\n",
        "\n",
        "axarr[1].set_title(\"Log Loss on Test dataset using Newton method\")\n",
        "axarr[1].plot(np.arange(1,(len(log_loss_newton) +1)), log_loss_newton)\n",
        "\n",
        "plt.xlabel(\"Iterations\")\n",
        "plt.show()"
      ]
    },
    {
      "cell_type": "markdown",
      "metadata": {
        "collapsed": true,
        "id": "IaTsfDKQsr63"
      },
      "source": [
        "__Comments:__\n",
        "\n",
        "The Graphs above are the results of running the logistic model on the Tic Tac Toe dataset. The left plot is the Log likelihood difference between iterations on the training dataset and the graph on the right is the Log Loss on the testing dataset.\n",
        "\n",
        "We notice that by using the Newtom method, the log likelihood difference graph decreases exponentially between the first and the 20th iterations. Between iteration 20 to 100, we observe a more or less constant value of the graph where it remains low, around zero for the rest of the iterations.\n",
        "\n",
        "The log loss on the otherhand starts higher but appears to be decreasing linearly after 20 iterations and continues to decrease for the rest of the iterations.  \n",
        "<br>\n",
        "<br>\n",
        "<br>\n",
        "__Conclusion:__\n",
        "\n",
        "Gradient descent maximizes a function using knowledge of its derivative while Newton's method, a root finding algorithm, maximizes a function using knowledge of its second derivative. \n",
        "The Newton's method can converge faster when the second derivative is known and easy to compute. However, the analytic expression for the second derivative is often complicated and expensive to comute, requiring a lot of computation. Numerical methods for computing the second derivative also require a lot of computation. For example, if 𝑁 values are required to compute the first derivative, 𝑁2 are required for the second derivative.\n",
        "\n",
        "As for our usecase, although Newton's algorith converges faster than Stochastic gradient descent we'd better stick with the later because in extreme cases gradient descent will tend to win out, especially for very poorly behaved function. "
      ]
    },
    {
      "cell_type": "code",
      "execution_count": null,
      "metadata": {
        "collapsed": true,
        "id": "OLn3LLERsr64"
      },
      "outputs": [],
      "source": [
        ""
      ]
    }
  ],
  "metadata": {
    "kernelspec": {
      "display_name": "Python 3",
      "language": "python",
      "name": "python3"
    },
    "language_info": {
      "codemirror_mode": {
        "name": "ipython",
        "version": 3
      },
      "file_extension": ".py",
      "mimetype": "text/x-python",
      "name": "python",
      "nbconvert_exporter": "python",
      "pygments_lexer": "ipython3",
      "version": "3.6.9"
    },
    "colab": {
      "name": "Stochastic gradient descent_SGD.ipynb",
      "provenance": [],
      "collapsed_sections": [
        "u2tk7Dppsr6z"
      ],
      "include_colab_link": true
    }
  },
  "nbformat": 4,
  "nbformat_minor": 0
}
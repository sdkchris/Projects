{
  "cells": [
    {
      "cell_type": "markdown",
      "metadata": {
        "id": "view-in-github",
        "colab_type": "text"
      },
      "source": [
        "<a href=\"https://colab.research.google.com/github/sdkchris/Projects/blob/main/KNN_algorithm_implementation.ipynb\" target=\"_parent\"><img src=\"https://colab.research.google.com/assets/colab-badge.svg\" alt=\"Open In Colab\"/></a>"
      ]
    },
    {
      "cell_type": "markdown",
      "metadata": {
        "id": "3P4of5DQS4vq"
      },
      "source": [
        "## k-nearest neighbors algorithm implementation (KNN)\n",
        "\n",
        "\n",
        "k-NN is a type of classification where the function is only approximated locally. \n",
        "In k-NN classification, the output is a class membership. An object is classified by a plurality vote of its neighbors, with the object being assigned to the class most common among its k nearest neighbors (k is a positive integer, typically small). \n",
        "If k = 1, then the object is simply assigned to the class of that single nearest neighbor. [wikipedia.com/knn]"
      ]
    },
    {
      "cell_type": "code",
      "execution_count": 1,
      "metadata": {
        "id": "wwF6eXv0S4vv"
      },
      "outputs": [],
      "source": [
        "#import dependencies \n",
        "import numpy as np\n",
        "import pandas as pd\n",
        "import matplotlib.pyplot as plt\n",
        "from sklearn import datasets"
      ]
    },
    {
      "cell_type": "code",
      "execution_count": 27,
      "metadata": {
        "colab": {
          "base_uri": "https://localhost:8080/",
          "height": 363
        },
        "id": "U79gXheLS4vx",
        "outputId": "c56a3bb1-e810-47af-d6e7-6cf03b182d8f"
      },
      "outputs": [
        {
          "output_type": "execute_result",
          "data": {
            "text/plain": [
              "     sepal length (cm)  sepal width (cm)  petal length (cm)  petal width (cm)  \\\n",
              "17                 5.1               3.5                1.4               0.3   \n",
              "58                 6.6               2.9                4.6               1.3   \n",
              "102                7.1               3.0                5.9               2.1   \n",
              "87                 6.3               2.3                4.4               1.3   \n",
              "44                 5.1               3.8                1.9               0.4   \n",
              "7                  5.0               3.4                1.5               0.2   \n",
              "24                 4.8               3.4                1.9               0.2   \n",
              "48                 5.3               3.7                1.5               0.2   \n",
              "133                6.3               2.8                5.1               1.5   \n",
              "124                6.7               3.3                5.7               2.1   \n",
              "\n",
              "     target  \n",
              "17        0  \n",
              "58        1  \n",
              "102       2  \n",
              "87        1  \n",
              "44        0  \n",
              "7         0  \n",
              "24        0  \n",
              "48        0  \n",
              "133       2  \n",
              "124       2  "
            ],
            "text/html": [
              "\n",
              "  <div id=\"df-3ed2af45-29bd-4822-af89-f22456b9fd91\">\n",
              "    <div class=\"colab-df-container\">\n",
              "      <div>\n",
              "<style scoped>\n",
              "    .dataframe tbody tr th:only-of-type {\n",
              "        vertical-align: middle;\n",
              "    }\n",
              "\n",
              "    .dataframe tbody tr th {\n",
              "        vertical-align: top;\n",
              "    }\n",
              "\n",
              "    .dataframe thead th {\n",
              "        text-align: right;\n",
              "    }\n",
              "</style>\n",
              "<table border=\"1\" class=\"dataframe\">\n",
              "  <thead>\n",
              "    <tr style=\"text-align: right;\">\n",
              "      <th></th>\n",
              "      <th>sepal length (cm)</th>\n",
              "      <th>sepal width (cm)</th>\n",
              "      <th>petal length (cm)</th>\n",
              "      <th>petal width (cm)</th>\n",
              "      <th>target</th>\n",
              "    </tr>\n",
              "  </thead>\n",
              "  <tbody>\n",
              "    <tr>\n",
              "      <th>17</th>\n",
              "      <td>5.1</td>\n",
              "      <td>3.5</td>\n",
              "      <td>1.4</td>\n",
              "      <td>0.3</td>\n",
              "      <td>0</td>\n",
              "    </tr>\n",
              "    <tr>\n",
              "      <th>58</th>\n",
              "      <td>6.6</td>\n",
              "      <td>2.9</td>\n",
              "      <td>4.6</td>\n",
              "      <td>1.3</td>\n",
              "      <td>1</td>\n",
              "    </tr>\n",
              "    <tr>\n",
              "      <th>102</th>\n",
              "      <td>7.1</td>\n",
              "      <td>3.0</td>\n",
              "      <td>5.9</td>\n",
              "      <td>2.1</td>\n",
              "      <td>2</td>\n",
              "    </tr>\n",
              "    <tr>\n",
              "      <th>87</th>\n",
              "      <td>6.3</td>\n",
              "      <td>2.3</td>\n",
              "      <td>4.4</td>\n",
              "      <td>1.3</td>\n",
              "      <td>1</td>\n",
              "    </tr>\n",
              "    <tr>\n",
              "      <th>44</th>\n",
              "      <td>5.1</td>\n",
              "      <td>3.8</td>\n",
              "      <td>1.9</td>\n",
              "      <td>0.4</td>\n",
              "      <td>0</td>\n",
              "    </tr>\n",
              "    <tr>\n",
              "      <th>7</th>\n",
              "      <td>5.0</td>\n",
              "      <td>3.4</td>\n",
              "      <td>1.5</td>\n",
              "      <td>0.2</td>\n",
              "      <td>0</td>\n",
              "    </tr>\n",
              "    <tr>\n",
              "      <th>24</th>\n",
              "      <td>4.8</td>\n",
              "      <td>3.4</td>\n",
              "      <td>1.9</td>\n",
              "      <td>0.2</td>\n",
              "      <td>0</td>\n",
              "    </tr>\n",
              "    <tr>\n",
              "      <th>48</th>\n",
              "      <td>5.3</td>\n",
              "      <td>3.7</td>\n",
              "      <td>1.5</td>\n",
              "      <td>0.2</td>\n",
              "      <td>0</td>\n",
              "    </tr>\n",
              "    <tr>\n",
              "      <th>133</th>\n",
              "      <td>6.3</td>\n",
              "      <td>2.8</td>\n",
              "      <td>5.1</td>\n",
              "      <td>1.5</td>\n",
              "      <td>2</td>\n",
              "    </tr>\n",
              "    <tr>\n",
              "      <th>124</th>\n",
              "      <td>6.7</td>\n",
              "      <td>3.3</td>\n",
              "      <td>5.7</td>\n",
              "      <td>2.1</td>\n",
              "      <td>2</td>\n",
              "    </tr>\n",
              "  </tbody>\n",
              "</table>\n",
              "</div>\n",
              "      <button class=\"colab-df-convert\" onclick=\"convertToInteractive('df-3ed2af45-29bd-4822-af89-f22456b9fd91')\"\n",
              "              title=\"Convert this dataframe to an interactive table.\"\n",
              "              style=\"display:none;\">\n",
              "        \n",
              "  <svg xmlns=\"http://www.w3.org/2000/svg\" height=\"24px\"viewBox=\"0 0 24 24\"\n",
              "       width=\"24px\">\n",
              "    <path d=\"M0 0h24v24H0V0z\" fill=\"none\"/>\n",
              "    <path d=\"M18.56 5.44l.94 2.06.94-2.06 2.06-.94-2.06-.94-.94-2.06-.94 2.06-2.06.94zm-11 1L8.5 8.5l.94-2.06 2.06-.94-2.06-.94L8.5 2.5l-.94 2.06-2.06.94zm10 10l.94 2.06.94-2.06 2.06-.94-2.06-.94-.94-2.06-.94 2.06-2.06.94z\"/><path d=\"M17.41 7.96l-1.37-1.37c-.4-.4-.92-.59-1.43-.59-.52 0-1.04.2-1.43.59L10.3 9.45l-7.72 7.72c-.78.78-.78 2.05 0 2.83L4 21.41c.39.39.9.59 1.41.59.51 0 1.02-.2 1.41-.59l7.78-7.78 2.81-2.81c.8-.78.8-2.07 0-2.86zM5.41 20L4 18.59l7.72-7.72 1.47 1.35L5.41 20z\"/>\n",
              "  </svg>\n",
              "      </button>\n",
              "      \n",
              "  <style>\n",
              "    .colab-df-container {\n",
              "      display:flex;\n",
              "      flex-wrap:wrap;\n",
              "      gap: 12px;\n",
              "    }\n",
              "\n",
              "    .colab-df-convert {\n",
              "      background-color: #E8F0FE;\n",
              "      border: none;\n",
              "      border-radius: 50%;\n",
              "      cursor: pointer;\n",
              "      display: none;\n",
              "      fill: #1967D2;\n",
              "      height: 32px;\n",
              "      padding: 0 0 0 0;\n",
              "      width: 32px;\n",
              "    }\n",
              "\n",
              "    .colab-df-convert:hover {\n",
              "      background-color: #E2EBFA;\n",
              "      box-shadow: 0px 1px 2px rgba(60, 64, 67, 0.3), 0px 1px 3px 1px rgba(60, 64, 67, 0.15);\n",
              "      fill: #174EA6;\n",
              "    }\n",
              "\n",
              "    [theme=dark] .colab-df-convert {\n",
              "      background-color: #3B4455;\n",
              "      fill: #D2E3FC;\n",
              "    }\n",
              "\n",
              "    [theme=dark] .colab-df-convert:hover {\n",
              "      background-color: #434B5C;\n",
              "      box-shadow: 0px 1px 3px 1px rgba(0, 0, 0, 0.15);\n",
              "      filter: drop-shadow(0px 1px 2px rgba(0, 0, 0, 0.3));\n",
              "      fill: #FFFFFF;\n",
              "    }\n",
              "  </style>\n",
              "\n",
              "      <script>\n",
              "        const buttonEl =\n",
              "          document.querySelector('#df-3ed2af45-29bd-4822-af89-f22456b9fd91 button.colab-df-convert');\n",
              "        buttonEl.style.display =\n",
              "          google.colab.kernel.accessAllowed ? 'block' : 'none';\n",
              "\n",
              "        async function convertToInteractive(key) {\n",
              "          const element = document.querySelector('#df-3ed2af45-29bd-4822-af89-f22456b9fd91');\n",
              "          const dataTable =\n",
              "            await google.colab.kernel.invokeFunction('convertToInteractive',\n",
              "                                                     [key], {});\n",
              "          if (!dataTable) return;\n",
              "\n",
              "          const docLinkHtml = 'Like what you see? Visit the ' +\n",
              "            '<a target=\"_blank\" href=https://colab.research.google.com/notebooks/data_table.ipynb>data table notebook</a>'\n",
              "            + ' to learn more about interactive tables.';\n",
              "          element.innerHTML = '';\n",
              "          dataTable['output_type'] = 'display_data';\n",
              "          await google.colab.output.renderOutput(dataTable, element);\n",
              "          const docLink = document.createElement('div');\n",
              "          docLink.innerHTML = docLinkHtml;\n",
              "          element.appendChild(docLink);\n",
              "        }\n",
              "      </script>\n",
              "    </div>\n",
              "  </div>\n",
              "  "
            ]
          },
          "metadata": {},
          "execution_count": 27
        }
      ],
      "source": [
        "# Load dataset\n",
        "\n",
        "iris = datasets.load_iris()\n",
        "# Create a dataframe\n",
        "df = pd.DataFrame(iris.data, columns = iris.feature_names)\n",
        "df['target'] = iris.target\n",
        "X = iris.data\n",
        "df.sample(10)\n"
      ]
    },
    {
      "cell_type": "code",
      "execution_count": 31,
      "metadata": {
        "colab": {
          "base_uri": "https://localhost:8080/",
          "height": 206
        },
        "id": "U-PnrgRqS4vz",
        "outputId": "f28455da-9df5-4ff9-e76c-f9f9588eec9a"
      },
      "outputs": [
        {
          "output_type": "execute_result",
          "data": {
            "text/plain": [
              "     sepal length (cm)  sepal width (cm)  petal length (cm)  petal width (cm)  \\\n",
              "63                 6.1               2.9                4.7               1.4   \n",
              "49                 5.0               3.3                1.4               0.2   \n",
              "27                 5.2               3.5                1.5               0.2   \n",
              "110                6.5               3.2                5.1               2.0   \n",
              "20                 5.4               3.4                1.7               0.2   \n",
              "\n",
              "     target  \n",
              "63        1  \n",
              "49        0  \n",
              "27        0  \n",
              "110       2  \n",
              "20        0  "
            ],
            "text/html": [
              "\n",
              "  <div id=\"df-7f48ae9d-3b2c-4f62-8e0d-270dc5ca4c54\">\n",
              "    <div class=\"colab-df-container\">\n",
              "      <div>\n",
              "<style scoped>\n",
              "    .dataframe tbody tr th:only-of-type {\n",
              "        vertical-align: middle;\n",
              "    }\n",
              "\n",
              "    .dataframe tbody tr th {\n",
              "        vertical-align: top;\n",
              "    }\n",
              "\n",
              "    .dataframe thead th {\n",
              "        text-align: right;\n",
              "    }\n",
              "</style>\n",
              "<table border=\"1\" class=\"dataframe\">\n",
              "  <thead>\n",
              "    <tr style=\"text-align: right;\">\n",
              "      <th></th>\n",
              "      <th>sepal length (cm)</th>\n",
              "      <th>sepal width (cm)</th>\n",
              "      <th>petal length (cm)</th>\n",
              "      <th>petal width (cm)</th>\n",
              "      <th>target</th>\n",
              "    </tr>\n",
              "  </thead>\n",
              "  <tbody>\n",
              "    <tr>\n",
              "      <th>63</th>\n",
              "      <td>6.1</td>\n",
              "      <td>2.9</td>\n",
              "      <td>4.7</td>\n",
              "      <td>1.4</td>\n",
              "      <td>1</td>\n",
              "    </tr>\n",
              "    <tr>\n",
              "      <th>49</th>\n",
              "      <td>5.0</td>\n",
              "      <td>3.3</td>\n",
              "      <td>1.4</td>\n",
              "      <td>0.2</td>\n",
              "      <td>0</td>\n",
              "    </tr>\n",
              "    <tr>\n",
              "      <th>27</th>\n",
              "      <td>5.2</td>\n",
              "      <td>3.5</td>\n",
              "      <td>1.5</td>\n",
              "      <td>0.2</td>\n",
              "      <td>0</td>\n",
              "    </tr>\n",
              "    <tr>\n",
              "      <th>110</th>\n",
              "      <td>6.5</td>\n",
              "      <td>3.2</td>\n",
              "      <td>5.1</td>\n",
              "      <td>2.0</td>\n",
              "      <td>2</td>\n",
              "    </tr>\n",
              "    <tr>\n",
              "      <th>20</th>\n",
              "      <td>5.4</td>\n",
              "      <td>3.4</td>\n",
              "      <td>1.7</td>\n",
              "      <td>0.2</td>\n",
              "      <td>0</td>\n",
              "    </tr>\n",
              "  </tbody>\n",
              "</table>\n",
              "</div>\n",
              "      <button class=\"colab-df-convert\" onclick=\"convertToInteractive('df-7f48ae9d-3b2c-4f62-8e0d-270dc5ca4c54')\"\n",
              "              title=\"Convert this dataframe to an interactive table.\"\n",
              "              style=\"display:none;\">\n",
              "        \n",
              "  <svg xmlns=\"http://www.w3.org/2000/svg\" height=\"24px\"viewBox=\"0 0 24 24\"\n",
              "       width=\"24px\">\n",
              "    <path d=\"M0 0h24v24H0V0z\" fill=\"none\"/>\n",
              "    <path d=\"M18.56 5.44l.94 2.06.94-2.06 2.06-.94-2.06-.94-.94-2.06-.94 2.06-2.06.94zm-11 1L8.5 8.5l.94-2.06 2.06-.94-2.06-.94L8.5 2.5l-.94 2.06-2.06.94zm10 10l.94 2.06.94-2.06 2.06-.94-2.06-.94-.94-2.06-.94 2.06-2.06.94z\"/><path d=\"M17.41 7.96l-1.37-1.37c-.4-.4-.92-.59-1.43-.59-.52 0-1.04.2-1.43.59L10.3 9.45l-7.72 7.72c-.78.78-.78 2.05 0 2.83L4 21.41c.39.39.9.59 1.41.59.51 0 1.02-.2 1.41-.59l7.78-7.78 2.81-2.81c.8-.78.8-2.07 0-2.86zM5.41 20L4 18.59l7.72-7.72 1.47 1.35L5.41 20z\"/>\n",
              "  </svg>\n",
              "      </button>\n",
              "      \n",
              "  <style>\n",
              "    .colab-df-container {\n",
              "      display:flex;\n",
              "      flex-wrap:wrap;\n",
              "      gap: 12px;\n",
              "    }\n",
              "\n",
              "    .colab-df-convert {\n",
              "      background-color: #E8F0FE;\n",
              "      border: none;\n",
              "      border-radius: 50%;\n",
              "      cursor: pointer;\n",
              "      display: none;\n",
              "      fill: #1967D2;\n",
              "      height: 32px;\n",
              "      padding: 0 0 0 0;\n",
              "      width: 32px;\n",
              "    }\n",
              "\n",
              "    .colab-df-convert:hover {\n",
              "      background-color: #E2EBFA;\n",
              "      box-shadow: 0px 1px 2px rgba(60, 64, 67, 0.3), 0px 1px 3px 1px rgba(60, 64, 67, 0.15);\n",
              "      fill: #174EA6;\n",
              "    }\n",
              "\n",
              "    [theme=dark] .colab-df-convert {\n",
              "      background-color: #3B4455;\n",
              "      fill: #D2E3FC;\n",
              "    }\n",
              "\n",
              "    [theme=dark] .colab-df-convert:hover {\n",
              "      background-color: #434B5C;\n",
              "      box-shadow: 0px 1px 3px 1px rgba(0, 0, 0, 0.15);\n",
              "      filter: drop-shadow(0px 1px 2px rgba(0, 0, 0, 0.3));\n",
              "      fill: #FFFFFF;\n",
              "    }\n",
              "  </style>\n",
              "\n",
              "      <script>\n",
              "        const buttonEl =\n",
              "          document.querySelector('#df-7f48ae9d-3b2c-4f62-8e0d-270dc5ca4c54 button.colab-df-convert');\n",
              "        buttonEl.style.display =\n",
              "          google.colab.kernel.accessAllowed ? 'block' : 'none';\n",
              "\n",
              "        async function convertToInteractive(key) {\n",
              "          const element = document.querySelector('#df-7f48ae9d-3b2c-4f62-8e0d-270dc5ca4c54');\n",
              "          const dataTable =\n",
              "            await google.colab.kernel.invokeFunction('convertToInteractive',\n",
              "                                                     [key], {});\n",
              "          if (!dataTable) return;\n",
              "\n",
              "          const docLinkHtml = 'Like what you see? Visit the ' +\n",
              "            '<a target=\"_blank\" href=https://colab.research.google.com/notebooks/data_table.ipynb>data table notebook</a>'\n",
              "            + ' to learn more about interactive tables.';\n",
              "          element.innerHTML = '';\n",
              "          dataTable['output_type'] = 'display_data';\n",
              "          await google.colab.output.renderOutput(dataTable, element);\n",
              "          const docLink = document.createElement('div');\n",
              "          docLink.innerHTML = docLinkHtml;\n",
              "          element.appendChild(docLink);\n",
              "        }\n",
              "      </script>\n",
              "    </div>\n",
              "  </div>\n",
              "  "
            ]
          },
          "metadata": {},
          "execution_count": 31
        }
      ],
      "source": [
        "# let's shuffle the data with sklearn function shuffle()\n",
        "from sklearn.utils import shuffle\n",
        "\n",
        "df = shuffle(df)\n",
        "df.head()"
      ]
    },
    {
      "cell_type": "code",
      "execution_count": 32,
      "metadata": {
        "colab": {
          "base_uri": "https://localhost:8080/",
          "height": 295
        },
        "id": "BkLiGjwFS4vz",
        "outputId": "142a1196-1b72-441f-c883-c42a08ce980b"
      },
      "outputs": [
        {
          "output_type": "display_data",
          "data": {
            "text/plain": [
              "<Figure size 432x288 with 1 Axes>"
            ],
            "image/png": "[encoded data removed]"
          },
          "metadata": {
            "needs_background": "light"
          }
        }
      ],
      "source": [
        "# Plotting the first two features (Sepal Length and Sepal Width)\n",
        "from matplotlib.colors import ListedColormap\n",
        "\n",
        "# We can also load the same dataset from sklearn\n",
        "data = datasets.load_iris()\n",
        "x,y = data.data, data.target\n",
        "cmap = ListedColormap(['#FF0000', '#00FF00', '#0000FF'])\n",
        "\n",
        "# plot two features \n",
        "plt.figure()\n",
        "plt.scatter(x[:,0],x[:,1], cmap=cmap, edgecolors='k',c=y, s=20)\n",
        "plt.title('Sepal Length vs Sepal Width')\n",
        "plt.xlabel('Sepal Length')\n",
        "plt.ylabel('Sepal Width')\n",
        "plt.show()"
      ]
    },
    {
      "cell_type": "markdown",
      "metadata": {
        "id": "TNV3F3OHS4v1"
      },
      "source": [
        "Split data into a train and a test split (70% and 30% respectively)\n"
      ]
    },
    {
      "cell_type": "code",
      "execution_count": 33,
      "metadata": {
        "id": "rRpmm6_eS4v2"
      },
      "outputs": [],
      "source": [
        "# Splitting the data into training and testing\n",
        "def train_test_split(dataset,frac):\n",
        "    size = dataset.shape[0]\n",
        "    proportion = round(size*frac)\n",
        "    train_data = dataset.iloc[:proportion]\n",
        "    test_data = dataset.iloc[proportion+1:]\n",
        "    return train_data, test_data"
      ]
    },
    {
      "cell_type": "code",
      "execution_count": 34,
      "metadata": {
        "id": "k9iMymhIS4v3"
      },
      "outputs": [],
      "source": [
        "train_data, test_data = train_test_split(df,.7)"
      ]
    },
    {
      "cell_type": "code",
      "execution_count": 36,
      "metadata": {
        "id": "sYP3jZc8S4v4"
      },
      "outputs": [],
      "source": [
        "y_train = train_data['target']\n",
        "x_train = train_data.drop(['target'],axis  = 1)\n",
        "\n",
        "y_test = test_data['target']\n",
        "x_test = test_data.drop(['target'],axis = 1)"
      ]
    },
    {
      "cell_type": "code",
      "execution_count": 37,
      "metadata": {
        "id": "MkJGHgH3S4v5"
      },
      "outputs": [],
      "source": [
        "x_train = pd.DataFrame(x_train)"
      ]
    },
    {
      "cell_type": "code",
      "execution_count": 38,
      "metadata": {
        "colab": {
          "base_uri": "https://localhost:8080/"
        },
        "id": "bSaxcRvNS4v6",
        "outputId": "d6ab3307-986a-4567-8f2e-79715b5210d5"
      },
      "outputs": [
        {
          "output_type": "execute_result",
          "data": {
            "text/plain": [
              "(44, 4)"
            ]
          },
          "metadata": {},
          "execution_count": 38
        }
      ],
      "source": [
        "x_test.shape"
      ]
    },
    {
      "cell_type": "markdown",
      "metadata": {
        "id": "_CUX1_O0S4v6"
      },
      "source": [
        "## KNN"
      ]
    },
    {
      "cell_type": "markdown",
      "metadata": {
        "id": "hTgC52eeS4v7"
      },
      "source": [
        "Implement a similarity (or a distance) measure. To begin with you can implement\n",
        "the Euclidean Distance. \n",
        "\n",
        "**Formula:**\n",
        "\n",
        "<img src=\"https://www.gstatic.com/education/formulas2/397133473/en/euclidean_distance.svg\" title=\"euclidien\" width=\"250\"/>\n",
        "\n",
        "\n",
        "* p,q\t=\ttwo points in Euclidean n-space\n",
        "* q_i, p_i\t=\tEuclidean vectors, starting from the origin of the space (initial point)\n",
        "* n\t=\tn-space"
      ]
    },
    {
      "cell_type": "code",
      "execution_count": 45,
      "metadata": {
        "id": "5yIfFfFCS4v7"
      },
      "outputs": [],
      "source": [
        "\"\"\"We'll compute the similaritiy between two instances by calculating \n",
        "    their Euclidian distance. The function below is \n",
        "    used to calculate the Euclidean Distance between two variables.\"\"\"\n",
        "def euclidean_distance(data_pt1, data_pt2):\n",
        "    \n",
        "    distance = np.sqrt(((data_pt1 - data_pt2).sum())**2)  #compute euclidean distance\n",
        "    \n",
        "    return distance"
      ]
    },
    {
      "cell_type": "markdown",
      "metadata": {
        "id": "5n3AXWlnS4v7"
      },
      "source": [
        "Implement a function that returns top K Nearest Neighbors for a given query (data point)\n"
      ]
    },
    {
      "cell_type": "code",
      "execution_count": 51,
      "metadata": {
        "id": "gBpleWxaS4v8"
      },
      "outputs": [],
      "source": [
        "\"\"\"To determine the top K Nearest Neighbour, by using the Euclidean Distance,\n",
        "the function below has been implemented. The function takes as \n",
        "parameter the target data points, the training dataset and K values, \n",
        "which represent the number of nearest neighbours. It then returns a \n",
        "list of the Top K nearest neighbour based on the K closest neighbour since \n",
        "we are using Euclidean Distance.\n",
        "\"\"\"\n",
        "import operator\n",
        "from operator import itemgetter\n",
        "\n",
        "def get_K_NN(target_point, training_set,k):\n",
        "    #takes as input:\n",
        "    #target_point: target data point\n",
        "    #training_set: training dataset\n",
        "    #K: number of K nearest Neighbour to return\n",
        "    #returns: list of K nearest Neighbour with their index\n",
        "    distance_list = []\n",
        "    \n",
        "    for index, row in training_set.iterrows():#for each individual instance in the training dataset\n",
        "        distance = euclidean_distance(target_point,row)#calculate euclidian distance \n",
        "        distance_list.append([index,distance])#add the index and the distance to the list \n",
        "    \n",
        "    # now we sort the distance list\n",
        "    distance_list.sort(key=operator.itemgetter(1))#A function that grabs the first item from a list object.\n",
        "    \n",
        "    # return k neighbors with the smallest distances \n",
        "    return np.array(distance_list[0:k])"
      ]
    },
    {
      "cell_type": "markdown",
      "metadata": {
        "id": "yPSoqvFmS4v8"
      },
      "source": [
        "Ref: https://docs.python.org/2/howto/sorting.html"
      ]
    },
    {
      "cell_type": "markdown",
      "metadata": {
        "id": "ifPktD1RS4v9"
      },
      "source": [
        "### Prediction \n",
        "\n",
        "\n",
        "We will predict the class using majority voting. \n",
        "To determine the class based on majority voting, the function below has been implemented. It finds the class of target variable based on each top K nearest neighbour's class.\n"
      ]
    },
    {
      "cell_type": "code",
      "execution_count": 47,
      "metadata": {
        "id": "kOWTa9xgS4v-"
      },
      "outputs": [],
      "source": [
        "\"\"\"The funtion takes as parameter the list of top K nearest neighbour from the \n",
        "function get_K_NN and returns the predicted Class based on the majority voting.\"\"\"\n",
        "\n",
        "def get_votes(neighbour_list):\n",
        "    majority_vote = {}#dict that will contain all the votes \n",
        "    \n",
        "    for vote in neighbour_list:\n",
        "        majority_vote[vote] = majority_vote.get(vote,0)+1 #here, we count votes per class\n",
        "    \n",
        "    pred = sorted(majority_vote.items(),key=lambda x:x[1], reverse = True)\n",
        "    \n",
        "    #returns the highest vote count\n",
        "    return pred[0][0]"
      ]
    },
    {
      "cell_type": "markdown",
      "metadata": {
        "id": "-p_29QHZS4v_"
      },
      "source": [
        "\n",
        "The funciton bellow ties up all the functions we've defined so far and preforms predictions. It takes as input the target datapoint, the training set and the number of neighbors and returns a predicted class of the target.  "
      ]
    },
    {
      "cell_type": "code",
      "execution_count": 48,
      "metadata": {
        "id": "c-_-p7pbS4v_"
      },
      "outputs": [],
      "source": [
        "def predict_class(traget, x_train,y_train,K):\n",
        "    \n",
        "    #first we get top k nearest neighbours \n",
        "    nearest_neighbours = get_K_NN(target, x_train,K)\n",
        "    \n",
        "    #process votes for each neighbouring point\n",
        "    neighbour_class = y_train[[i for i in (nearest_neighbours[:,0])]]\n",
        "    \n",
        "    #get prediction\n",
        "    pred = get_votes(neighbour_class)\n",
        "    \n",
        "    return pred"
      ]
    },
    {
      "cell_type": "markdown",
      "metadata": {
        "id": "fv3cg9aPS4v_"
      },
      "source": [
        "### Predict label of a point"
      ]
    },
    {
      "cell_type": "code",
      "execution_count": 49,
      "metadata": {
        "colab": {
          "base_uri": "https://localhost:8080/"
        },
        "id": "tA9uvD0WS4wA",
        "outputId": "1a00cce7-0481-475c-860a-8f8402d8526d"
      },
      "outputs": [
        {
          "output_type": "execute_result",
          "data": {
            "text/plain": [
              "sepal length (cm)    4.7\n",
              "sepal width (cm)     3.2\n",
              "petal length (cm)    1.6\n",
              "petal width (cm)     0.2\n",
              "Name: 29, dtype: float64"
            ]
          },
          "metadata": {},
          "execution_count": 49
        }
      ],
      "source": [
        "target = x_test.iloc[13]\n",
        "target"
      ]
    },
    {
      "cell_type": "code",
      "execution_count": 52,
      "metadata": {
        "id": "al2dehMsS4wA"
      },
      "outputs": [],
      "source": [
        "# Let's predict its class by getting top 10 neighbours first \n",
        "\n",
        "top_neighbours = get_K_NN(target,x_train,10)\n"
      ]
    },
    {
      "cell_type": "code",
      "execution_count": 53,
      "metadata": {
        "colab": {
          "base_uri": "https://localhost:8080/"
        },
        "id": "uwS6hmfeS4wA",
        "outputId": "d26a90aa-ddd7-459d-ccf6-604b3b7f7405"
      },
      "outputs": [
        {
          "output_type": "stream",
          "name": "stdout",
          "text": [
            "Nearest neighbour 1: 30.0 ---> Distance to target: 4.440892098500626e-16\n",
            "Nearest neighbour 2: 6.0 ---> Distance to target: 9.992007221626409e-16\n",
            "Nearest neighbour 3: 9.0 ---> Distance to target: 0.1\n",
            "Nearest neighbour 4: 35.0 ---> Distance to target: 0.10000000000000031\n",
            "Nearest neighbour 5: 49.0 ---> Distance to target: 0.1999999999999993\n",
            "Nearest neighbour 6: 45.0 ---> Distance to target: 0.20000000000000073\n",
            "Nearest neighbour 7: 11.0 ---> Distance to target: 0.2999999999999994\n",
            "Nearest neighbour 8: 37.0 ---> Distance to target: 0.29999999999999993\n",
            "Nearest neighbour 9: 2.0 ---> Distance to target: 0.30000000000000004\n",
            "Nearest neighbour 10: 3.0 ---> Distance to target: 0.3000000000000007\n"
          ]
        }
      ],
      "source": [
        "for i in range(0,len(top_neighbours)):\n",
        "    print('Nearest neighbour {}: {} ---> Distance to target: {}'.format(i+1, top_neighbours[i][0],top_neighbours[i][1]))"
      ]
    },
    {
      "cell_type": "code",
      "execution_count": 54,
      "metadata": {
        "id": "0VquO3B5S4wB"
      },
      "outputs": [],
      "source": [
        "# now we get the classes of each nearest neighbour\n",
        "class_of_neighbours = y_train[[i for i in(top_neighbours[:,0])]]"
      ]
    },
    {
      "cell_type": "code",
      "execution_count": 55,
      "metadata": {
        "colab": {
          "base_uri": "https://localhost:8080/"
        },
        "id": "mQ5cKZ82S4wB",
        "outputId": "150658e1-02c9-4df3-c839-6074036926b8"
      },
      "outputs": [
        {
          "output_type": "stream",
          "name": "stdout",
          "text": [
            "30.0    0\n",
            "6.0     0\n",
            "9.0     0\n",
            "35.0    0\n",
            "49.0    0\n",
            "45.0    0\n",
            "11.0    0\n",
            "37.0    0\n",
            "2.0     0\n",
            "3.0     0\n",
            "Name: target, dtype: int64\n"
          ]
        }
      ],
      "source": [
        "print(class_of_neighbours)"
      ]
    },
    {
      "cell_type": "markdown",
      "metadata": {
        "id": "rUJDJiM9S4wB"
      },
      "source": [
        "Notice that almost all of the neighbouring datapoints are of class Iris-versicolor (class 0), so most probably our target point is going to belong to the class Iris-versicolor."
      ]
    },
    {
      "cell_type": "code",
      "execution_count": 56,
      "metadata": {
        "colab": {
          "base_uri": "https://localhost:8080/"
        },
        "id": "hgUdAlE8S4wC",
        "outputId": "e49d20a8-38f7-4434-f1c6-ac2dedf4daa2"
      },
      "outputs": [
        {
          "output_type": "stream",
          "name": "stdout",
          "text": [
            "Predicted class is: 0\n"
          ]
        }
      ],
      "source": [
        "# get prediction of these classes-->by majority vote \n",
        "prediction = get_votes(class_of_neighbours)\n",
        "print(\"Predicted class is: {}\".format(prediction))"
      ]
    },
    {
      "cell_type": "markdown",
      "metadata": {
        "id": "-JvhMf4oS4wC"
      },
      "source": [
        "### Evaluation \n",
        "\n",
        "Accuracy of prediction"
      ]
    },
    {
      "cell_type": "markdown",
      "metadata": {
        "id": "olzy1U0KS4wC"
      },
      "source": [
        "To test results of our algorithm, we can use accuracy as a metric. Accuracy is the ratio of number of data points correctly classified to the total number of data points. For calculating accuracy, the following lines have been written."
      ]
    },
    {
      "cell_type": "code",
      "execution_count": 57,
      "metadata": {
        "id": "48l5dZ5YS4wC"
      },
      "outputs": [],
      "source": [
        "true_prediction = 0\n",
        "\n",
        "for index,row in x_test.iterrows():\n",
        "    ground_truth = y_test[index]\n",
        "    prediction = predict_class(row,x_train,y_train,10)\n",
        "    \n",
        "    if prediction == ground_truth:\n",
        "        true_prediction = true_prediction + 1\n"
      ]
    },
    {
      "cell_type": "code",
      "execution_count": 58,
      "metadata": {
        "id": "7RmqmTrGS4wD"
      },
      "outputs": [],
      "source": [
        "accuracy =(true_prediction/float(x_test.shape[0]))"
      ]
    },
    {
      "cell_type": "code",
      "execution_count": 59,
      "metadata": {
        "colab": {
          "base_uri": "https://localhost:8080/"
        },
        "id": "o75svvwRS4wD",
        "outputId": "c86c2567-e924-4d1e-fb11-36d89f4adf93"
      },
      "outputs": [
        {
          "output_type": "stream",
          "name": "stdout",
          "text": [
            "The Classification Accuracy is:  0.38636363636363635\n"
          ]
        }
      ],
      "source": [
        "print(\"The Classification Accuracy is: \", accuracy)\n"
      ]
    },
    {
      "cell_type": "code",
      "execution_count": 59,
      "metadata": {
        "id": "0pHHQjxhS4wD"
      },
      "outputs": [],
      "source": [
        ""
      ]
    },
    {
      "cell_type": "markdown",
      "source": [
        "Well, this should definetely be improved. \n",
        "To do: \n",
        "* Check accuracy calculation since the predicted value is correct "
      ],
      "metadata": {
        "id": "-pri0dsjqf79"
      }
    }
  ],
  "metadata": {
    "kernelspec": {
      "display_name": "Python 3",
      "language": "python",
      "name": "python3"
    },
    "language_info": {
      "codemirror_mode": {
        "name": "ipython",
        "version": 3
      },
      "file_extension": ".py",
      "mimetype": "text/x-python",
      "name": "python",
      "nbconvert_exporter": "python",
      "pygments_lexer": "ipython3",
      "version": "3.7.5"
    },
    "colab": {
      "name": "KNN algorithm implementation.ipynb",
      "provenance": [],
      "collapsed_sections": [],
      "include_colab_link": true
    }
  },
  "nbformat": 4,
  "nbformat_minor": 0
}